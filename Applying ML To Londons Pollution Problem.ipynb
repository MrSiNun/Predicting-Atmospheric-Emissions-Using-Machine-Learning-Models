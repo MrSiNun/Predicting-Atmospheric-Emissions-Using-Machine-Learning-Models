{
 "cells": [
  {
   "cell_type": "code",
   "execution_count": 1,
   "id": "9e881885-4246-4d63-b238-446eb6af2378",
   "metadata": {
    "tags": []
   },
   "outputs": [],
   "source": [
    "DATA_ROOT_DIR=\"/media/sf_Share/ML_Group_Data/\"\n",
    "MAJOR_ROAD_TRANS=DATA_ROOT_DIR+\"Detailed_Road_Transport-Major_Roads_Excel/LAEI2019-nox-pm-co2-major-roads-link-emissions.xlsx\"\n",
    "GRID_EMISSIONS=DATA_ROOT_DIR+\"Grid_Emissions-Data_Excel/LAEI-2019-Emissions-Summary-including-Forecast.xlsx\"\n",
    "VKM_AADT_SPEEDS=DATA_ROOT_DIR+\"Supporting_Info-VKM_flow_speeds_excel/laei-2019-major-roads-vkm-flows-speeds.xlsx\"\n",
    "\n",
    "CONCENTRATIONS_DATA_CSV_DIR=DATA_ROOT_DIR+\"LAEI2019-Concentrations-Data-CSV/\"\n",
    "CONCENTRATIONS_DATA_NOX=CONCENTRATIONS_DATA_CSV_DIR+\"laei_LAEI2019v3_CorNOx15_NOx.csv\"\n",
    "CONCENTRATIONS_DATA_PM25=CONCENTRATIONS_DATA_CSV_DIR+\"laei_LAEI2019v3_CorNOx15_PM25.csv\""
   ]
  },
  {
   "cell_type": "code",
   "execution_count": 3,
   "id": "f8d76c04-aabc-4e95-aca2-0e28e2b8fa47",
   "metadata": {
    "tags": []
   },
   "outputs": [],
   "source": [
    "import pandas as pd\n",
    "import numpy as np\n",
    "import matplotlib.pyplot as plt\n",
    "import seaborn as sns\n",
    "\n",
    "from sklearn.pipeline import make_pipeline\n",
    "from sklearn.preprocessing import StandardScaler\n",
    "\n",
    "from sklearn.decomposition import PCA\n",
    "from sklearn.ensemble import RandomForestRegressor\n",
    "\n",
    "from sklearn.linear_model import LinearRegression, LogisticRegression\n",
    "\n",
    "from sklearn.model_selection import train_test_split\n",
    "\n",
    "from sklearn.metrics import mean_squared_error, mean_absolute_error, r2_score\n",
    "from sklearn.metrics import accuracy_score\n",
    "from sklearn.metrics import confusion_matrix\n",
    "from sklearn.metrics import precision_score\n",
    "from sklearn.metrics import recall_score\n",
    "from sklearn.metrics import f1_score\n",
    "from sklearn.metrics import roc_auc_score, roc_curve\n",
    "from sklearn.metrics import log_loss\n"
   ]
  },
  {
   "cell_type": "markdown",
   "id": "5c5c0ced-f95d-473e-b02e-df74c59208be",
   "metadata": {},
   "source": [
    "# Objective - find important features in predicting the concentration of NOx and pm25 from vehicle emissions"
   ]
  },
  {
   "cell_type": "markdown",
   "id": "a33fc6c1-a323-4c38-8b32-62422e5f9972",
   "metadata": {},
   "source": [
    "# Two stages necessary since data for vehicle statistics and their emissions are correlated by TOID, which represents a stretch of road. Then emissions data, from a different source, and concentration of pollutants are correlated by grid coordinate. This second part is used to form a Linear Regression model which informs the emissions data in the first part."
   ]
  },
  {
   "cell_type": "markdown",
   "id": "2d7770a5-9fc5-4277-bfbb-6632610d5aae",
   "metadata": {},
   "source": [
    "---\n",
    "# Part One: Load up TOID correlated data.\n",
    "Conduct some cleanup and create dataframes for each sheet that has been loaded, although some we throw away instantly"
   ]
  },
  {
   "cell_type": "code",
   "execution_count": 8,
   "id": "59cdc70f-cc0e-4d6e-9632-8238acc4971e",
   "metadata": {
    "tags": []
   },
   "outputs": [],
   "source": [
    "vkm_aadt_speeds_df = pd.read_excel(VKM_AADT_SPEEDS, sheet_name=\"laei-2019-major-roads\")\n",
    "major_dict = pd.read_excel(MAJOR_ROAD_TRANS, sheet_name=None)"
   ]
  },
  {
   "cell_type": "code",
   "execution_count": 10,
   "id": "fa1b18c0-5177-4fd5-bfcd-957b8b2c9a3d",
   "metadata": {
    "tags": []
   },
   "outputs": [
    {
     "name": "stdout",
     "output_type": "stream",
     "text": [
      "DataFrame created with name NOx_Road_Link_Emissions\n",
      "DataFrame created with name PM10_Road_Link_Emissions\n",
      "DataFrame created with name PM25_Road_Link_Emissions\n",
      "DataFrame created with name CO2_Road_Link_Emissions\n"
     ]
    }
   ],
   "source": [
    "for sheet, df in major_dict.items():\n",
    "    name = sheet.replace(\" \", \"_\")\n",
    "    name = name.replace(\".\", \"\")\n",
    "    globals()[name] = df\n",
    "    print(f\"DataFrame created with name {name}\")"
   ]
  },
  {
   "cell_type": "code",
   "execution_count": 12,
   "id": "125fe819-af05-43ea-87be-dfa967062990",
   "metadata": {
    "tags": []
   },
   "outputs": [],
   "source": [
    "# This is a massive object so delete it.\n",
    "del major_dict "
   ]
  },
  {
   "cell_type": "code",
   "execution_count": 14,
   "id": "5c0adb09-9f54-456f-a34d-510a7e60ae1f",
   "metadata": {
    "tags": []
   },
   "outputs": [
    {
     "name": "stdout",
     "output_type": "stream",
     "text": [
      "<class 'pandas.core.frame.DataFrame'>\n",
      "RangeIndex: 79439 entries, 0 to 79438\n",
      "Data columns (total 51 columns):\n",
      " #   Column                          Non-Null Count  Dtype  \n",
      "---  ------                          --------------  -----  \n",
      " 0   TOID                            79439 non-null  object \n",
      " 1   pollutant                       79439 non-null  object \n",
      " 2   emissions-units                 79439 non-null  object \n",
      " 3   Road-Car-Petrol-2019            79381 non-null  float64\n",
      " 4   Road-Car-Petrol-2025            79423 non-null  float64\n",
      " 5   Road-Car-Petrol-2030            79423 non-null  float64\n",
      " 6   Road-Car-Diesel-2019            79381 non-null  float64\n",
      " 7   Road-Car-Diesel-2025            79423 non-null  float64\n",
      " 8   Road-Car-Diesel-2030            79423 non-null  float64\n",
      " 9   Road-Car-Electric-2019          79381 non-null  float64\n",
      " 10  Road-Car-Electric-2025          79423 non-null  float64\n",
      " 11  Road-Car-Electric-2030          79423 non-null  float64\n",
      " 12  Road-PHV-Petrol-2019            79381 non-null  float64\n",
      " 13  Road-PHV-Petrol-2025            79423 non-null  float64\n",
      " 14  Road-PHV-Petrol-2030            79423 non-null  float64\n",
      " 15  Road-PHV-Diesel-2019            79381 non-null  float64\n",
      " 16  Road-PHV-Diesel-2025            79423 non-null  float64\n",
      " 17  Road-PHV-Diesel-2030            79423 non-null  float64\n",
      " 18  Road-PHV-Electric-2019          79381 non-null  float64\n",
      " 19  Road-PHV-Electric-2025          79423 non-null  float64\n",
      " 20  Road-PHV-Electric-2030          79423 non-null  float64\n",
      " 21  Road-LGV-Petrol-2019            79381 non-null  float64\n",
      " 22  Road-LGV-Petrol-2025            79423 non-null  float64\n",
      " 23  Road-LGV-Petrol-2030            79423 non-null  float64\n",
      " 24  Road-LGV-Diesel-2019            79381 non-null  float64\n",
      " 25  Road-LGV-Diesel-2025            79423 non-null  float64\n",
      " 26  Road-LGV-Diesel-2030            79423 non-null  float64\n",
      " 27  Road-LGV-Electric-2019          79381 non-null  float64\n",
      " 28  Road-LGV-Electric-2025          79423 non-null  float64\n",
      " 29  Road-LGV-Electric-2030          79423 non-null  float64\n",
      " 30  Road-HGV-Rigid-2019             79381 non-null  float64\n",
      " 31  Road-HGV-Rigid-2025             79423 non-null  float64\n",
      " 32  Road-HGV-Rigid-2030             79423 non-null  float64\n",
      " 33  Road-HGV-Articulated-2019       79381 non-null  float64\n",
      " 34  Road-HGV-Articulated-2025       79423 non-null  float64\n",
      " 35  Road-HGV-Articulated-2030       79423 non-null  float64\n",
      " 36  Road-TfL-Bus-2019               79388 non-null  float64\n",
      " 37  Road-TfL-Bus-2025               79439 non-null  float64\n",
      " 38  Road-TfL-Bus-2030               79439 non-null  float64\n",
      " 39  Road-Non-TfL-Bus-or-Coach-2019  79381 non-null  float64\n",
      " 40  Road-Non-TfL-Bus-or-Coach-2025  79423 non-null  float64\n",
      " 41  Road-Non-TfL-Bus-or-Coach-2030  79423 non-null  float64\n",
      " 42  Road-Taxi-2019                  79381 non-null  float64\n",
      " 43  Road-Taxi-2025                  79423 non-null  float64\n",
      " 44  Road-Taxi-2030                  79423 non-null  float64\n",
      " 45  Road-Motorcycle-2019            79381 non-null  float64\n",
      " 46  Road-Motorcycle-2025            79423 non-null  float64\n",
      " 47  Road-Motorcycle-2030            79423 non-null  float64\n",
      " 48  Road-Total-2019                 79381 non-null  float64\n",
      " 49  Road-Total-2025                 79423 non-null  float64\n",
      " 50  Road-Total-2030                 79423 non-null  float64\n",
      "dtypes: float64(48), object(3)\n",
      "memory usage: 30.9+ MB\n"
     ]
    }
   ],
   "source": [
    "NOx_Road_Link_Emissions.info()"
   ]
  },
  {
   "cell_type": "code",
   "execution_count": 16,
   "id": "9401154b-5f07-452d-a458-3deed188e5ea",
   "metadata": {
    "tags": []
   },
   "outputs": [
    {
     "name": "stdout",
     "output_type": "stream",
     "text": [
      "<class 'pandas.core.frame.DataFrame'>\n",
      "RangeIndex: 238317 entries, 0 to 238316\n",
      "Data columns (total 52 columns):\n",
      " #   Column                          Non-Null Count   Dtype  \n",
      "---  ------                          --------------   -----  \n",
      " 0   TOID                            238317 non-null  object \n",
      " 1   pollutant                       238317 non-null  object \n",
      " 2   pm-source                       238317 non-null  object \n",
      " 3   emissions-units                 238317 non-null  object \n",
      " 4   Road-Car-Petrol-2019            238143 non-null  float64\n",
      " 5   Road-Car-Petrol-2025            238269 non-null  float64\n",
      " 6   Road-Car-Petrol-2030            238269 non-null  float64\n",
      " 7   Road-Car-Diesel-2019            238143 non-null  float64\n",
      " 8   Road-Car-Diesel-2025            238269 non-null  float64\n",
      " 9   Road-Car-Diesel-2030            238269 non-null  float64\n",
      " 10  Road-Car-Electric-2019          238143 non-null  float64\n",
      " 11  Road-Car-Electric-2025          238269 non-null  float64\n",
      " 12  Road-Car-Electric-2030          238269 non-null  float64\n",
      " 13  Road-PHV-Petrol-2019            238143 non-null  float64\n",
      " 14  Road-PHV-Petrol-2025            238269 non-null  float64\n",
      " 15  Road-PHV-Petrol-2030            238269 non-null  float64\n",
      " 16  Road-PHV-Diesel-2019            238143 non-null  float64\n",
      " 17  Road-PHV-Diesel-2025            238269 non-null  float64\n",
      " 18  Road-PHV-Diesel-2030            238269 non-null  float64\n",
      " 19  Road-PHV-Electric-2019          238143 non-null  float64\n",
      " 20  Road-PHV-Electric-2025          238269 non-null  float64\n",
      " 21  Road-PHV-Electric-2030          238269 non-null  float64\n",
      " 22  Road-LGV-Petrol-2019            238143 non-null  float64\n",
      " 23  Road-LGV-Petrol-2025            238269 non-null  float64\n",
      " 24  Road-LGV-Petrol-2030            238269 non-null  float64\n",
      " 25  Road-LGV-Diesel-2019            238143 non-null  float64\n",
      " 26  Road-LGV-Diesel-2025            238269 non-null  float64\n",
      " 27  Road-LGV-Diesel-2030            238269 non-null  float64\n",
      " 28  Road-LGV-Electric-2019          238143 non-null  float64\n",
      " 29  Road-LGV-Electric-2025          238269 non-null  float64\n",
      " 30  Road-LGV-Electric-2030          238269 non-null  float64\n",
      " 31  Road-HGV-Rigid-2019             238143 non-null  float64\n",
      " 32  Road-HGV-Rigid-2025             238269 non-null  float64\n",
      " 33  Road-HGV-Rigid-2030             238269 non-null  float64\n",
      " 34  Road-HGV-Articulated-2019       238143 non-null  float64\n",
      " 35  Road-HGV-Articulated-2025       238269 non-null  float64\n",
      " 36  Road-HGV-Articulated-2030       238269 non-null  float64\n",
      " 37  Road-TfL-Bus-2019               238164 non-null  float64\n",
      " 38  Road-TfL-Bus-2025               238317 non-null  float64\n",
      " 39  Road-TfL-Bus-2030               238317 non-null  float64\n",
      " 40  Road-Non-TfL-Bus-or-Coach-2019  238143 non-null  float64\n",
      " 41  Road-Non-TfL-Bus-or-Coach-2025  238269 non-null  float64\n",
      " 42  Road-Non-TfL-Bus-or-Coach-2030  238269 non-null  float64\n",
      " 43  Road-Taxi-2019                  238143 non-null  float64\n",
      " 44  Road-Taxi-2025                  238269 non-null  float64\n",
      " 45  Road-Taxi-2030                  238269 non-null  float64\n",
      " 46  Road-Motorcycle-2019            238143 non-null  float64\n",
      " 47  Road-Motorcycle-2025            238269 non-null  float64\n",
      " 48  Road-Motorcycle-2030            238269 non-null  float64\n",
      " 49  Road-Total-2019                 238143 non-null  float64\n",
      " 50  Road-Total-2025                 238269 non-null  float64\n",
      " 51  Road-Total-2030                 238269 non-null  float64\n",
      "dtypes: float64(48), object(4)\n",
      "memory usage: 94.5+ MB\n"
     ]
    }
   ],
   "source": [
    "PM25_Road_Link_Emissions.info()"
   ]
  },
  {
   "cell_type": "markdown",
   "id": "f781ee1c-bfd1-4553-b2e3-349ce8dd8eba",
   "metadata": {},
   "source": [
    "### We are interested 2019 data, so filter only that is included"
   ]
  },
  {
   "cell_type": "code",
   "execution_count": 19,
   "id": "60fe1c73-a893-40a2-af56-2b269dc36e55",
   "metadata": {
    "tags": []
   },
   "outputs": [],
   "source": [
    "target_year = \"2019\"\n",
    "PM25_Emissions = PM25_Road_Link_Emissions[[col for col in PM25_Road_Link_Emissions.columns if target_year in col]].copy()\n",
    "NOx_Emissions = NOx_Road_Link_Emissions[[col for col in NOx_Road_Link_Emissions.columns if target_year in col]].copy()"
   ]
  },
  {
   "cell_type": "markdown",
   "id": "8ede4852-d21d-4307-aaf9-03a5e2231de1",
   "metadata": {},
   "source": [
    "### Total emissions for all classes of vehicle for each pollutant is added to the dataframe, along with TOID, which is the correlating feature"
   ]
  },
  {
   "cell_type": "code",
   "execution_count": 22,
   "id": "7e24151b-effa-4036-9304-eacbe93165ea",
   "metadata": {
    "tags": []
   },
   "outputs": [],
   "source": [
    "NOx_Emissions[\"NOX_Total\"] = NOx_Emissions.sum(axis=1)\n",
    "PM25_Emissions[\"PM25_Total\"] = PM25_Emissions.sum(axis=1)\n",
    "NOx_Emissions[\"TOID\"] = NOx_Road_Link_Emissions[\"TOID\"].copy()\n",
    "PM25_Emissions[\"TOID\"] = PM25_Road_Link_Emissions[\"TOID\"].copy()"
   ]
  },
  {
   "cell_type": "code",
   "execution_count": 24,
   "id": "6866c825-5a3d-45a6-a382-f40a9423c0f9",
   "metadata": {
    "tags": []
   },
   "outputs": [
    {
     "name": "stdout",
     "output_type": "stream",
     "text": [
      "<class 'pandas.core.frame.DataFrame'>\n",
      "RangeIndex: 238317 entries, 0 to 238316\n",
      "Data columns (total 18 columns):\n",
      " #   Column                          Non-Null Count   Dtype  \n",
      "---  ------                          --------------   -----  \n",
      " 0   Road-Car-Petrol-2019            238143 non-null  float64\n",
      " 1   Road-Car-Diesel-2019            238143 non-null  float64\n",
      " 2   Road-Car-Electric-2019          238143 non-null  float64\n",
      " 3   Road-PHV-Petrol-2019            238143 non-null  float64\n",
      " 4   Road-PHV-Diesel-2019            238143 non-null  float64\n",
      " 5   Road-PHV-Electric-2019          238143 non-null  float64\n",
      " 6   Road-LGV-Petrol-2019            238143 non-null  float64\n",
      " 7   Road-LGV-Diesel-2019            238143 non-null  float64\n",
      " 8   Road-LGV-Electric-2019          238143 non-null  float64\n",
      " 9   Road-HGV-Rigid-2019             238143 non-null  float64\n",
      " 10  Road-HGV-Articulated-2019       238143 non-null  float64\n",
      " 11  Road-TfL-Bus-2019               238164 non-null  float64\n",
      " 12  Road-Non-TfL-Bus-or-Coach-2019  238143 non-null  float64\n",
      " 13  Road-Taxi-2019                  238143 non-null  float64\n",
      " 14  Road-Motorcycle-2019            238143 non-null  float64\n",
      " 15  Road-Total-2019                 238143 non-null  float64\n",
      " 16  PM25_Total                      238317 non-null  float64\n",
      " 17  TOID                            238317 non-null  object \n",
      "dtypes: float64(17), object(1)\n",
      "memory usage: 32.7+ MB\n"
     ]
    }
   ],
   "source": [
    "PM25_Emissions.info()"
   ]
  },
  {
   "cell_type": "code",
   "execution_count": 26,
   "id": "46f177c9-7c1a-4285-a8d3-a281017ce871",
   "metadata": {
    "tags": []
   },
   "outputs": [
    {
     "data": {
      "text/html": [
       "<div>\n",
       "<style scoped>\n",
       "    .dataframe tbody tr th:only-of-type {\n",
       "        vertical-align: middle;\n",
       "    }\n",
       "\n",
       "    .dataframe tbody tr th {\n",
       "        vertical-align: top;\n",
       "    }\n",
       "\n",
       "    .dataframe thead th {\n",
       "        text-align: right;\n",
       "    }\n",
       "</style>\n",
       "<table border=\"1\" class=\"dataframe\">\n",
       "  <thead>\n",
       "    <tr style=\"text-align: right;\">\n",
       "      <th></th>\n",
       "      <th>TOID</th>\n",
       "    </tr>\n",
       "  </thead>\n",
       "  <tbody>\n",
       "    <tr>\n",
       "      <th>count</th>\n",
       "      <td>238317</td>\n",
       "    </tr>\n",
       "    <tr>\n",
       "      <th>unique</th>\n",
       "      <td>79439</td>\n",
       "    </tr>\n",
       "    <tr>\n",
       "      <th>top</th>\n",
       "      <td>osgb4000000027865913</td>\n",
       "    </tr>\n",
       "    <tr>\n",
       "      <th>freq</th>\n",
       "      <td>3</td>\n",
       "    </tr>\n",
       "  </tbody>\n",
       "</table>\n",
       "</div>"
      ],
      "text/plain": [
       "                        TOID\n",
       "count                 238317\n",
       "unique                 79439\n",
       "top     osgb4000000027865913\n",
       "freq                       3"
      ]
     },
     "execution_count": 26,
     "metadata": {},
     "output_type": "execute_result"
    }
   ],
   "source": [
    "PM25_Emissions.describe(include=['O'])"
   ]
  },
  {
   "cell_type": "code",
   "execution_count": 28,
   "id": "fe3f3bbe-9129-48d6-852c-04491ec93485",
   "metadata": {
    "tags": []
   },
   "outputs": [
    {
     "name": "stdout",
     "output_type": "stream",
     "text": [
      "<class 'pandas.core.frame.DataFrame'>\n",
      "RangeIndex: 79439 entries, 0 to 79438\n",
      "Data columns (total 18 columns):\n",
      " #   Column                          Non-Null Count  Dtype  \n",
      "---  ------                          --------------  -----  \n",
      " 0   Road-Car-Petrol-2019            79381 non-null  float64\n",
      " 1   Road-Car-Diesel-2019            79381 non-null  float64\n",
      " 2   Road-Car-Electric-2019          79381 non-null  float64\n",
      " 3   Road-PHV-Petrol-2019            79381 non-null  float64\n",
      " 4   Road-PHV-Diesel-2019            79381 non-null  float64\n",
      " 5   Road-PHV-Electric-2019          79381 non-null  float64\n",
      " 6   Road-LGV-Petrol-2019            79381 non-null  float64\n",
      " 7   Road-LGV-Diesel-2019            79381 non-null  float64\n",
      " 8   Road-LGV-Electric-2019          79381 non-null  float64\n",
      " 9   Road-HGV-Rigid-2019             79381 non-null  float64\n",
      " 10  Road-HGV-Articulated-2019       79381 non-null  float64\n",
      " 11  Road-TfL-Bus-2019               79388 non-null  float64\n",
      " 12  Road-Non-TfL-Bus-or-Coach-2019  79381 non-null  float64\n",
      " 13  Road-Taxi-2019                  79381 non-null  float64\n",
      " 14  Road-Motorcycle-2019            79381 non-null  float64\n",
      " 15  Road-Total-2019                 79381 non-null  float64\n",
      " 16  NOX_Total                       79439 non-null  float64\n",
      " 17  TOID                            79439 non-null  object \n",
      "dtypes: float64(17), object(1)\n",
      "memory usage: 10.9+ MB\n"
     ]
    }
   ],
   "source": [
    "NOx_Emissions.info()"
   ]
  },
  {
   "cell_type": "code",
   "execution_count": 30,
   "id": "ea36557e-d379-4d63-adb1-9dbb1a49c9e4",
   "metadata": {
    "tags": []
   },
   "outputs": [
    {
     "data": {
      "text/html": [
       "<div>\n",
       "<style scoped>\n",
       "    .dataframe tbody tr th:only-of-type {\n",
       "        vertical-align: middle;\n",
       "    }\n",
       "\n",
       "    .dataframe tbody tr th {\n",
       "        vertical-align: top;\n",
       "    }\n",
       "\n",
       "    .dataframe thead th {\n",
       "        text-align: right;\n",
       "    }\n",
       "</style>\n",
       "<table border=\"1\" class=\"dataframe\">\n",
       "  <thead>\n",
       "    <tr style=\"text-align: right;\">\n",
       "      <th></th>\n",
       "      <th>TOID</th>\n",
       "    </tr>\n",
       "  </thead>\n",
       "  <tbody>\n",
       "    <tr>\n",
       "      <th>count</th>\n",
       "      <td>79439</td>\n",
       "    </tr>\n",
       "    <tr>\n",
       "      <th>unique</th>\n",
       "      <td>79439</td>\n",
       "    </tr>\n",
       "    <tr>\n",
       "      <th>top</th>\n",
       "      <td>osgb4000000027865913</td>\n",
       "    </tr>\n",
       "    <tr>\n",
       "      <th>freq</th>\n",
       "      <td>1</td>\n",
       "    </tr>\n",
       "  </tbody>\n",
       "</table>\n",
       "</div>"
      ],
      "text/plain": [
       "                        TOID\n",
       "count                  79439\n",
       "unique                 79439\n",
       "top     osgb4000000027865913\n",
       "freq                       1"
      ]
     },
     "execution_count": 30,
     "metadata": {},
     "output_type": "execute_result"
    }
   ],
   "source": [
    "NOx_Emissions.describe(include=['O'])"
   ]
  },
  {
   "cell_type": "markdown",
   "id": "733f6ab2-2697-4370-8dcd-0eba1fcbb558",
   "metadata": {},
   "source": [
    "### Observations are that the number of unique TOIDs is the same in each dataframe and there are some blank values"
   ]
  },
  {
   "cell_type": "markdown",
   "id": "16eaf4e1-5016-4079-938c-c080cd63bb33",
   "metadata": {},
   "source": [
    "Drop all rows that have blank and remove columns that are currently not needed"
   ]
  },
  {
   "cell_type": "code",
   "execution_count": 34,
   "id": "0e1f163b-d2f8-49af-8bf4-eafd5dbcd370",
   "metadata": {
    "tags": []
   },
   "outputs": [],
   "source": [
    "NOx_Emissions = NOx_Emissions.loc[:, [\"NOX_Total\",\"TOID\"]]\n",
    "PM25_Emissions = PM25_Emissions.loc[:, [\"PM25_Total\",\"TOID\"]]"
   ]
  },
  {
   "cell_type": "code",
   "execution_count": 36,
   "id": "7a3322e5-a377-4a62-b827-19e8b1010646",
   "metadata": {
    "tags": []
   },
   "outputs": [],
   "source": [
    "NOx_Emissions.dropna(inplace=True)\n",
    "PM25_Emissions.dropna(inplace=True)"
   ]
  },
  {
   "cell_type": "markdown",
   "id": "d0d8ac11-5f44-4bb5-ad5e-4c711931d45a",
   "metadata": {},
   "source": [
    "# Now we have emission data by TOID in two different dataframes, next add vehicle speed \n",
    "cleanup first"
   ]
  },
  {
   "cell_type": "code",
   "execution_count": 39,
   "id": "12143144-d942-4519-934f-dbd51c8fd351",
   "metadata": {
    "tags": []
   },
   "outputs": [
    {
     "data": {
      "text/plain": [
       "Index(['Year', 'TOID', 'LAEI Zone', 'Borough', 'Road Classification',\n",
       "       'AADT Motorcycle', 'AADT Taxi', 'AADT Petrol Car', 'AADT Diesel Car',\n",
       "       'AADT Electric Car', 'AADT Petrol PHV', 'AADT Diesel PHV',\n",
       "       'AADT Electric PHV', 'AADT Petrol LGV', 'AADT Diesel LGV',\n",
       "       'AADT Electric LGV', 'AADT 2019 - HGVs - Rigid - 2 Axles',\n",
       "       'AADT 2019 - HGVs - Rigid - 3 Axles',\n",
       "       'AADT 2019 - HGVs - Rigid - 4 or more Axles',\n",
       "       'AADT 2019 - HGVs - Articulated - 3 to 4 Axles',\n",
       "       'AADT 2019 - HGVs - Articulated - 5 Axles',\n",
       "       'AADT 2019 - HGVs - Articulated - 6 Axles', 'AADT 2019 - Buses',\n",
       "       'AADT 2019 - Coaches', 'AADT 2019 - Total',\n",
       "       'Speed (km/hr) - Except Buses', 'Speed (km/hr) - Buses Only',\n",
       "       'Link Length (m)', 'VKM Motorcycle', 'VKM Taxi', 'VKM Petrol Car',\n",
       "       'VKM Diesel Car', 'VKM Electric Car', 'VKM Petrol PHV',\n",
       "       'VKM Diesel PHV', 'VKM Electric PHV', 'VKM Petrol LGV',\n",
       "       'VKM Diesel LGV', 'VKM Electric LGV',\n",
       "       'VKM 2019 - HGVs - Rigid - 2 Axles',\n",
       "       'VKM 2019 - HGVs - Rigid - 3 Axles',\n",
       "       'VKM 2019 - HGVs - Rigid - 4 or more Axles',\n",
       "       'VKM 2019 - HGVs - Articulated - 3 to 4 Axles',\n",
       "       'VKM 2019 - HGVs - Articulated - 5 Axles',\n",
       "       'VKM 2019 - HGVs - Articulated - 6 Axles', 'VKM 2019 - Buses',\n",
       "       'VKM 2019 - Coaches', 'VKM 2019 - Total'],\n",
       "      dtype='object')"
      ]
     },
     "execution_count": 39,
     "metadata": {},
     "output_type": "execute_result"
    }
   ],
   "source": [
    "vkm_aadt_speeds_df.columns = vkm_aadt_speeds_df.columns.str.strip()\n",
    "vkm_aadt_speeds_df.columns"
   ]
  },
  {
   "cell_type": "code",
   "execution_count": 41,
   "id": "0e630dd1-c707-4b23-b2f5-31ea3d8d8346",
   "metadata": {
    "tags": []
   },
   "outputs": [
    {
     "name": "stderr",
     "output_type": "stream",
     "text": [
      "/tmp/ipykernel_19239/3734700780.py:3: DeprecationWarning: In a future version, `df.iloc[:, i] = newvals` will attempt to set the values inplace instead of always setting a new array. To retain the old behavior, use either `df[df.columns[i]] = newvals` or, if columns are non-unique, `df.isetitem(i, newvals)`\n",
      "  speed_data.loc[:, 'Speed'] = pd.to_numeric(speed_data['Speed'], errors='coerce')\n"
     ]
    },
    {
     "data": {
      "text/html": [
       "<div>\n",
       "<style scoped>\n",
       "    .dataframe tbody tr th:only-of-type {\n",
       "        vertical-align: middle;\n",
       "    }\n",
       "\n",
       "    .dataframe tbody tr th {\n",
       "        vertical-align: top;\n",
       "    }\n",
       "\n",
       "    .dataframe thead th {\n",
       "        text-align: right;\n",
       "    }\n",
       "</style>\n",
       "<table border=\"1\" class=\"dataframe\">\n",
       "  <thead>\n",
       "    <tr style=\"text-align: right;\">\n",
       "      <th></th>\n",
       "      <th>TOID</th>\n",
       "      <th>Speed</th>\n",
       "    </tr>\n",
       "  </thead>\n",
       "  <tbody>\n",
       "    <tr>\n",
       "      <th>0</th>\n",
       "      <td>osgb4000000027865913</td>\n",
       "      <td>102.0</td>\n",
       "    </tr>\n",
       "    <tr>\n",
       "      <th>1</th>\n",
       "      <td>osgb4000000027865914</td>\n",
       "      <td>107.0</td>\n",
       "    </tr>\n",
       "    <tr>\n",
       "      <th>2</th>\n",
       "      <td>osgb4000000027865915</td>\n",
       "      <td>96.0</td>\n",
       "    </tr>\n",
       "    <tr>\n",
       "      <th>3</th>\n",
       "      <td>osgb4000000027865916</td>\n",
       "      <td>103.0</td>\n",
       "    </tr>\n",
       "    <tr>\n",
       "      <th>4</th>\n",
       "      <td>osgb4000000027865917</td>\n",
       "      <td>102.0</td>\n",
       "    </tr>\n",
       "    <tr>\n",
       "      <th>...</th>\n",
       "      <td>...</td>\n",
       "      <td>...</td>\n",
       "    </tr>\n",
       "    <tr>\n",
       "      <th>79432</th>\n",
       "      <td>osgb5000005157986967</td>\n",
       "      <td>21.0</td>\n",
       "    </tr>\n",
       "    <tr>\n",
       "      <th>79433</th>\n",
       "      <td>osgb5000005161615710</td>\n",
       "      <td>21.0</td>\n",
       "    </tr>\n",
       "    <tr>\n",
       "      <th>79434</th>\n",
       "      <td>osgb5000005161615711</td>\n",
       "      <td>21.0</td>\n",
       "    </tr>\n",
       "    <tr>\n",
       "      <th>79435</th>\n",
       "      <td>osgb5000005163065844</td>\n",
       "      <td>19.0</td>\n",
       "    </tr>\n",
       "    <tr>\n",
       "      <th>79436</th>\n",
       "      <td>osgb5000005170369562</td>\n",
       "      <td>27.0</td>\n",
       "    </tr>\n",
       "  </tbody>\n",
       "</table>\n",
       "<p>79437 rows × 2 columns</p>\n",
       "</div>"
      ],
      "text/plain": [
       "                       TOID  Speed\n",
       "0      osgb4000000027865913  102.0\n",
       "1      osgb4000000027865914  107.0\n",
       "2      osgb4000000027865915   96.0\n",
       "3      osgb4000000027865916  103.0\n",
       "4      osgb4000000027865917  102.0\n",
       "...                     ...    ...\n",
       "79432  osgb5000005157986967   21.0\n",
       "79433  osgb5000005161615710   21.0\n",
       "79434  osgb5000005161615711   21.0\n",
       "79435  osgb5000005163065844   19.0\n",
       "79436  osgb5000005170369562   27.0\n",
       "\n",
       "[79437 rows x 2 columns]"
      ]
     },
     "execution_count": 41,
     "metadata": {},
     "output_type": "execute_result"
    }
   ],
   "source": [
    "speed_data = vkm_aadt_speeds_df.loc[:, [\"TOID\",\"Speed (km/hr) - Except Buses\"]]\n",
    "speed_data.rename(columns = {\"Speed (km/hr) - Except Buses\":\"Speed\"}, inplace=True)\n",
    "speed_data.loc[:, 'Speed'] = pd.to_numeric(speed_data['Speed'], errors='coerce')\n",
    "average_speed = speed_data.groupby('TOID', as_index=False)['Speed'].mean()\n",
    "del speed_data\n",
    "average_speed"
   ]
  },
  {
   "cell_type": "markdown",
   "id": "676b39c3-0b56-475a-a2d7-5f53b29ff3fd",
   "metadata": {},
   "source": [
    "## Now there is a third dataframe that contains speed and TOID"
   ]
  },
  {
   "cell_type": "code",
   "execution_count": 44,
   "id": "f0689abc-d0a0-42c4-8609-397023bc8639",
   "metadata": {
    "tags": []
   },
   "outputs": [
    {
     "name": "stdout",
     "output_type": "stream",
     "text": [
      "Number of TOIDs in Nox is 78770, length of dataframe is 79439\n",
      "Number of TOIDs in pm25 is 236308, length of dataframe is 238317\n"
     ]
    }
   ],
   "source": [
    "print(f\"Number of TOIDs in Nox is {NOx_Emissions.nunique().iloc[0]}, length of dataframe is {len(NOx_Emissions)}\")\n",
    "print(f\"Number of TOIDs in pm25 is {PM25_Emissions.nunique().iloc[0]}, length of dataframe is {len(PM25_Emissions)}\")"
   ]
  },
  {
   "cell_type": "markdown",
   "id": "9ab7e61b-fe2c-4b5d-9c80-fc4c5a703cf3",
   "metadata": {},
   "source": [
    "### pm25 has a greater number of sources from a vehicle, including exhaust as well as tyre and brake wear, so needs averaging per TOID"
   ]
  },
  {
   "cell_type": "code",
   "execution_count": 47,
   "id": "5efae8a9-1804-42c8-81c5-48aeb8a870bb",
   "metadata": {
    "tags": []
   },
   "outputs": [],
   "source": [
    "PM25_Emissions = PM25_Emissions.groupby('TOID', as_index=False).mean()"
   ]
  },
  {
   "cell_type": "markdown",
   "id": "c1fe5108-2ce1-4087-8cc2-3808d791a425",
   "metadata": {},
   "source": [
    "## Now start a summary DataFrame which will bring the three DataFrames created so far together, by TOID"
   ]
  },
  {
   "cell_type": "code",
   "execution_count": 50,
   "id": "3b76a529-a196-4303-bc0c-b485689d716b",
   "metadata": {
    "tags": []
   },
   "outputs": [],
   "source": [
    "summary_df = pd.DataFrame()\n",
    "summary_df[\"TOID\"] = NOx_Emissions.loc[:, \"TOID\"].copy()\n",
    "summary_df['Speed'] = 0\n",
    "mapping_dict = average_speed.set_index('TOID')['Speed'].to_dict()\n",
    "summary_df.loc[:, 'Speed'] = average_speed['TOID'].map(mapping_dict)\n",
    "\n",
    "mapping_dict = NOx_Emissions.set_index('TOID')['NOX_Total'].to_dict()\n",
    "summary_df.loc[:, 'NOX_Total'] = NOx_Emissions['TOID'].map(mapping_dict)\n",
    "\n",
    "mapping_dict = PM25_Emissions.set_index('TOID')['PM25_Total'].to_dict()\n",
    "summary_df.loc[:, 'PM25_Total'] = PM25_Emissions['TOID'].map(mapping_dict)"
   ]
  },
  {
   "cell_type": "code",
   "execution_count": 51,
   "id": "426cd5db-e6ee-4d70-b477-e2785aba153a",
   "metadata": {
    "tags": []
   },
   "outputs": [],
   "source": [
    "del PM25_Emissions, NOx_Emissions,average_speed"
   ]
  },
  {
   "cell_type": "code",
   "execution_count": 54,
   "id": "fe39780a-d03a-4afc-86ca-76bf76162970",
   "metadata": {
    "tags": []
   },
   "outputs": [
    {
     "name": "stdout",
     "output_type": "stream",
     "text": [
      "<class 'pandas.core.frame.DataFrame'>\n",
      "RangeIndex: 79439 entries, 0 to 79438\n",
      "Data columns (total 4 columns):\n",
      " #   Column      Non-Null Count  Dtype  \n",
      "---  ------      --------------  -----  \n",
      " 0   TOID        79439 non-null  object \n",
      " 1   Speed       79436 non-null  float64\n",
      " 2   NOX_Total   79439 non-null  float64\n",
      " 3   PM25_Total  79439 non-null  float64\n",
      "dtypes: float64(3), object(1)\n",
      "memory usage: 2.4+ MB\n"
     ]
    }
   ],
   "source": [
    "summary_df.info()"
   ]
  },
  {
   "cell_type": "markdown",
   "id": "19d97495-1e84-4838-8947-62ddb9b7f82e",
   "metadata": {},
   "source": [
    "# We know the emissions, what caused them?"
   ]
  },
  {
   "cell_type": "markdown",
   "id": "2dfd136a-853a-4258-afa9-5bfe4c9b6403",
   "metadata": {},
   "source": [
    "### Group by aadt (annual average daily traffic), ensuring the TOID is carried into the new DataFrame"
   ]
  },
  {
   "cell_type": "code",
   "execution_count": 58,
   "id": "d999c533-52c6-4ce1-a882-d66850de7bb7",
   "metadata": {
    "tags": []
   },
   "outputs": [
    {
     "data": {
      "text/html": [
       "<div>\n",
       "<style scoped>\n",
       "    .dataframe tbody tr th:only-of-type {\n",
       "        vertical-align: middle;\n",
       "    }\n",
       "\n",
       "    .dataframe tbody tr th {\n",
       "        vertical-align: top;\n",
       "    }\n",
       "\n",
       "    .dataframe thead th {\n",
       "        text-align: right;\n",
       "    }\n",
       "</style>\n",
       "<table border=\"1\" class=\"dataframe\">\n",
       "  <thead>\n",
       "    <tr style=\"text-align: right;\">\n",
       "      <th></th>\n",
       "      <th>AADT_Motorcycle</th>\n",
       "      <th>AADT_Taxi</th>\n",
       "      <th>AADT_Petrol_Car</th>\n",
       "      <th>AADT_Diesel_Car</th>\n",
       "      <th>AADT_Electric_Car</th>\n",
       "      <th>AADT_Petrol_PHV</th>\n",
       "      <th>AADT_Diesel_PHV</th>\n",
       "      <th>AADT_Electric_PHV</th>\n",
       "      <th>AADT_Petrol_LGV</th>\n",
       "      <th>AADT_Diesel_LGV</th>\n",
       "      <th>...</th>\n",
       "      <th>AADT_2019_-_HGVs_-_Rigid_-_2_Axles</th>\n",
       "      <th>AADT_2019_-_HGVs_-_Rigid_-_3_Axles</th>\n",
       "      <th>AADT_2019_-_HGVs_-_Rigid_-_4_or_more_Axles</th>\n",
       "      <th>AADT_2019_-_HGVs_-_Articulated_-_3_to_4_Axles</th>\n",
       "      <th>AADT_2019_-_HGVs_-_Articulated_-_5_Axles</th>\n",
       "      <th>AADT_2019_-_HGVs_-_Articulated_-_6_Axles</th>\n",
       "      <th>AADT_2019_-_Buses</th>\n",
       "      <th>AADT_2019_-_Coaches</th>\n",
       "      <th>AADT_2019_-_Total</th>\n",
       "      <th>TOID</th>\n",
       "    </tr>\n",
       "  </thead>\n",
       "  <tbody>\n",
       "    <tr>\n",
       "      <th>count</th>\n",
       "      <td>79437</td>\n",
       "      <td>79437</td>\n",
       "      <td>79437</td>\n",
       "      <td>79437</td>\n",
       "      <td>79437</td>\n",
       "      <td>79437</td>\n",
       "      <td>79437</td>\n",
       "      <td>79437</td>\n",
       "      <td>79437</td>\n",
       "      <td>79437</td>\n",
       "      <td>...</td>\n",
       "      <td>79437</td>\n",
       "      <td>79437</td>\n",
       "      <td>79437</td>\n",
       "      <td>79437</td>\n",
       "      <td>79437</td>\n",
       "      <td>79437</td>\n",
       "      <td>79437</td>\n",
       "      <td>79437</td>\n",
       "      <td>79437</td>\n",
       "      <td>79437</td>\n",
       "    </tr>\n",
       "    <tr>\n",
       "      <th>unique</th>\n",
       "      <td>1722</td>\n",
       "      <td>3119</td>\n",
       "      <td>12632</td>\n",
       "      <td>9719</td>\n",
       "      <td>233</td>\n",
       "      <td>2246</td>\n",
       "      <td>1615</td>\n",
       "      <td>68</td>\n",
       "      <td>137</td>\n",
       "      <td>5901</td>\n",
       "      <td>...</td>\n",
       "      <td>1852</td>\n",
       "      <td>450</td>\n",
       "      <td>752</td>\n",
       "      <td>324</td>\n",
       "      <td>749</td>\n",
       "      <td>1075</td>\n",
       "      <td>1939</td>\n",
       "      <td>1253</td>\n",
       "      <td>22870</td>\n",
       "      <td>79437</td>\n",
       "    </tr>\n",
       "    <tr>\n",
       "      <th>top</th>\n",
       "      <td>-</td>\n",
       "      <td>-</td>\n",
       "      <td>-</td>\n",
       "      <td>-</td>\n",
       "      <td>15</td>\n",
       "      <td>-</td>\n",
       "      <td>-</td>\n",
       "      <td>1</td>\n",
       "      <td>3</td>\n",
       "      <td>-</td>\n",
       "      <td>...</td>\n",
       "      <td>-</td>\n",
       "      <td>-</td>\n",
       "      <td>-</td>\n",
       "      <td>-</td>\n",
       "      <td>-</td>\n",
       "      <td>-</td>\n",
       "      <td>-</td>\n",
       "      <td>-</td>\n",
       "      <td>-</td>\n",
       "      <td>osgb4000000027947700</td>\n",
       "    </tr>\n",
       "    <tr>\n",
       "      <th>freq</th>\n",
       "      <td>765</td>\n",
       "      <td>1671</td>\n",
       "      <td>1267</td>\n",
       "      <td>1267</td>\n",
       "      <td>1631</td>\n",
       "      <td>5423</td>\n",
       "      <td>5423</td>\n",
       "      <td>17249</td>\n",
       "      <td>3700</td>\n",
       "      <td>1366</td>\n",
       "      <td>...</td>\n",
       "      <td>3517</td>\n",
       "      <td>5636</td>\n",
       "      <td>5664</td>\n",
       "      <td>12142</td>\n",
       "      <td>8589</td>\n",
       "      <td>8453</td>\n",
       "      <td>25624</td>\n",
       "      <td>12893</td>\n",
       "      <td>689</td>\n",
       "      <td>1</td>\n",
       "    </tr>\n",
       "  </tbody>\n",
       "</table>\n",
       "<p>4 rows × 21 columns</p>\n",
       "</div>"
      ],
      "text/plain": [
       "       AADT_Motorcycle AADT_Taxi AADT_Petrol_Car AADT_Diesel_Car  \\\n",
       "count            79437     79437           79437           79437   \n",
       "unique            1722      3119           12632            9719   \n",
       "top               -         -               -               -      \n",
       "freq               765      1671            1267            1267   \n",
       "\n",
       "        AADT_Electric_Car AADT_Petrol_PHV AADT_Diesel_PHV  AADT_Electric_PHV  \\\n",
       "count               79437           79437           79437              79437   \n",
       "unique                233            2246            1615                 68   \n",
       "top                    15            -               -                     1   \n",
       "freq                 1631            5423            5423              17249   \n",
       "\n",
       "        AADT_Petrol_LGV AADT_Diesel_LGV  ...  \\\n",
       "count             79437           79437  ...   \n",
       "unique              137            5901  ...   \n",
       "top                   3            -     ...   \n",
       "freq               3700            1366  ...   \n",
       "\n",
       "        AADT_2019_-_HGVs_-_Rigid_-_2_Axles AADT_2019_-_HGVs_-_Rigid_-_3_Axles  \\\n",
       "count                                79437                              79437   \n",
       "unique                                1852                                450   \n",
       "top                                   -                                  -      \n",
       "freq                                  3517                               5636   \n",
       "\n",
       "       AADT_2019_-_HGVs_-_Rigid_-_4_or_more_Axles  \\\n",
       "count                                       79437   \n",
       "unique                                        752   \n",
       "top                                          -      \n",
       "freq                                         5664   \n",
       "\n",
       "       AADT_2019_-_HGVs_-_Articulated_-_3_to_4_Axles  \\\n",
       "count                                          79437   \n",
       "unique                                           324   \n",
       "top                                             -      \n",
       "freq                                           12142   \n",
       "\n",
       "       AADT_2019_-_HGVs_-_Articulated_-_5_Axles  \\\n",
       "count                                     79437   \n",
       "unique                                      749   \n",
       "top                                        -      \n",
       "freq                                       8589   \n",
       "\n",
       "       AADT_2019_-_HGVs_-_Articulated_-_6_Axles AADT_2019_-_Buses  \\\n",
       "count                                     79437             79437   \n",
       "unique                                     1075              1939   \n",
       "top                                        -                 -      \n",
       "freq                                       8453             25624   \n",
       "\n",
       "       AADT_2019_-_Coaches AADT_2019_-_Total                  TOID  \n",
       "count                79437             79437                 79437  \n",
       "unique                1253             22870                 79437  \n",
       "top                   -                 -     osgb4000000027947700  \n",
       "freq                 12893               689                     1  \n",
       "\n",
       "[4 rows x 21 columns]"
      ]
     },
     "execution_count": 58,
     "metadata": {},
     "output_type": "execute_result"
    }
   ],
   "source": [
    "aadt_columns = vkm_aadt_speeds_df.filter(like='AADT', axis=1).copy()\n",
    "aadt_columns[\"TOID\"] = vkm_aadt_speeds_df.loc[:, \"TOID\"].copy()\n",
    "aadt_columns.columns = aadt_columns.columns.str.strip().str.replace(' ', '_')\n",
    "aadt_columns.describe(include=['O'])"
   ]
  },
  {
   "cell_type": "code",
   "execution_count": 59,
   "id": "773b0685-1fa8-4b38-9f47-cc2a2ba54568",
   "metadata": {
    "tags": []
   },
   "outputs": [
    {
     "name": "stdout",
     "output_type": "stream",
     "text": [
      "<class 'pandas.core.frame.DataFrame'>\n",
      "RangeIndex: 79437 entries, 0 to 79436\n",
      "Data columns (total 21 columns):\n",
      " #   Column                                         Non-Null Count  Dtype \n",
      "---  ------                                         --------------  ----- \n",
      " 0   AADT_Motorcycle                                79437 non-null  object\n",
      " 1   AADT_Taxi                                      79437 non-null  object\n",
      " 2   AADT_Petrol_Car                                79437 non-null  object\n",
      " 3   AADT_Diesel_Car                                79437 non-null  object\n",
      " 4   AADT_Electric_Car                              79437 non-null  object\n",
      " 5   AADT_Petrol_PHV                                79437 non-null  object\n",
      " 6   AADT_Diesel_PHV                                79437 non-null  object\n",
      " 7   AADT_Electric_PHV                              79437 non-null  object\n",
      " 8   AADT_Petrol_LGV                                79437 non-null  object\n",
      " 9   AADT_Diesel_LGV                                79437 non-null  object\n",
      " 10  AADT_Electric_LGV                              79437 non-null  object\n",
      " 11  AADT_2019_-_HGVs_-_Rigid_-_2_Axles             79437 non-null  object\n",
      " 12  AADT_2019_-_HGVs_-_Rigid_-_3_Axles             79437 non-null  object\n",
      " 13  AADT_2019_-_HGVs_-_Rigid_-_4_or_more_Axles     79437 non-null  object\n",
      " 14  AADT_2019_-_HGVs_-_Articulated_-_3_to_4_Axles  79437 non-null  object\n",
      " 15  AADT_2019_-_HGVs_-_Articulated_-_5_Axles       79437 non-null  object\n",
      " 16  AADT_2019_-_HGVs_-_Articulated_-_6_Axles       79437 non-null  object\n",
      " 17  AADT_2019_-_Buses                              79437 non-null  object\n",
      " 18  AADT_2019_-_Coaches                            79437 non-null  object\n",
      " 19  AADT_2019_-_Total                              79437 non-null  object\n",
      " 20  TOID                                           79437 non-null  object\n",
      "dtypes: object(21)\n",
      "memory usage: 12.7+ MB\n"
     ]
    }
   ],
   "source": [
    "aadt_columns.info()"
   ]
  },
  {
   "cell_type": "markdown",
   "id": "93c745bf-4940-4d2b-a92b-773be89e158c",
   "metadata": {},
   "source": [
    "## Prepare the data, remove white space and set \"-\" to NaN. There are ~73k rows before dropna and ~45k after"
   ]
  },
  {
   "cell_type": "code",
   "execution_count": 63,
   "id": "35f7cc1c-3c1f-4098-b75b-cc5cc3ff9e0e",
   "metadata": {
    "tags": []
   },
   "outputs": [],
   "source": [
    "aadt_columns = aadt_columns.applymap(lambda x: x.strip() if isinstance(x, str) else x)\n",
    "aadt_columns = aadt_columns.replace(\"-\",np.nan)\n",
    "aadt_columns.dropna(inplace=True) "
   ]
  },
  {
   "cell_type": "code",
   "execution_count": 64,
   "id": "674148ee-e8bb-441a-8c35-565f84847370",
   "metadata": {
    "tags": []
   },
   "outputs": [
    {
     "name": "stdout",
     "output_type": "stream",
     "text": [
      "<class 'pandas.core.frame.DataFrame'>\n",
      "Int64Index: 45043 entries, 5 to 78319\n",
      "Data columns (total 21 columns):\n",
      " #   Column                                         Non-Null Count  Dtype  \n",
      "---  ------                                         --------------  -----  \n",
      " 0   AADT_Motorcycle                                45043 non-null  float64\n",
      " 1   AADT_Taxi                                      45043 non-null  float64\n",
      " 2   AADT_Petrol_Car                                45043 non-null  float64\n",
      " 3   AADT_Diesel_Car                                45043 non-null  float64\n",
      " 4   AADT_Electric_Car                              45043 non-null  float64\n",
      " 5   AADT_Petrol_PHV                                45043 non-null  float64\n",
      " 6   AADT_Diesel_PHV                                45043 non-null  float64\n",
      " 7   AADT_Electric_PHV                              45043 non-null  float64\n",
      " 8   AADT_Petrol_LGV                                45043 non-null  float64\n",
      " 9   AADT_Diesel_LGV                                45043 non-null  float64\n",
      " 10  AADT_Electric_LGV                              45043 non-null  float64\n",
      " 11  AADT_2019_-_HGVs_-_Rigid_-_2_Axles             45043 non-null  float64\n",
      " 12  AADT_2019_-_HGVs_-_Rigid_-_3_Axles             45043 non-null  float64\n",
      " 13  AADT_2019_-_HGVs_-_Rigid_-_4_or_more_Axles     45043 non-null  float64\n",
      " 14  AADT_2019_-_HGVs_-_Articulated_-_3_to_4_Axles  45043 non-null  float64\n",
      " 15  AADT_2019_-_HGVs_-_Articulated_-_5_Axles       45043 non-null  float64\n",
      " 16  AADT_2019_-_HGVs_-_Articulated_-_6_Axles       45043 non-null  float64\n",
      " 17  AADT_2019_-_Buses                              45043 non-null  float64\n",
      " 18  AADT_2019_-_Coaches                            45043 non-null  float64\n",
      " 19  AADT_2019_-_Total                              45043 non-null  float64\n",
      " 20  TOID                                           45043 non-null  object \n",
      "dtypes: float64(20), object(1)\n",
      "memory usage: 7.6+ MB\n"
     ]
    }
   ],
   "source": [
    "aadt_columns.info()"
   ]
  },
  {
   "cell_type": "markdown",
   "id": "41550fd1-cb73-4766-875e-b920accd87cf",
   "metadata": {},
   "source": [
    "### Group by vkm (vehicle kilometeres), ensuring the TOID is carried into the new DataFrame"
   ]
  },
  {
   "cell_type": "code",
   "execution_count": 68,
   "id": "1e987516-bc41-4038-8325-ffc767038ace",
   "metadata": {
    "tags": []
   },
   "outputs": [
    {
     "name": "stdout",
     "output_type": "stream",
     "text": [
      "<class 'pandas.core.frame.DataFrame'>\n",
      "RangeIndex: 79437 entries, 0 to 79436\n",
      "Data columns (total 21 columns):\n",
      " #   Column                                        Non-Null Count  Dtype \n",
      "---  ------                                        --------------  ----- \n",
      " 0   VKM_Motorcycle                                79437 non-null  object\n",
      " 1   VKM_Taxi                                      79437 non-null  object\n",
      " 2   VKM_Petrol_Car                                79437 non-null  object\n",
      " 3   VKM_Diesel_Car                                79437 non-null  object\n",
      " 4   VKM_Electric_Car                              79437 non-null  object\n",
      " 5   VKM_Petrol_PHV                                79437 non-null  object\n",
      " 6   VKM_Diesel_PHV                                79437 non-null  object\n",
      " 7   VKM_Electric_PHV                              79437 non-null  object\n",
      " 8   VKM_Petrol_LGV                                79437 non-null  object\n",
      " 9   VKM_Diesel_LGV                                79437 non-null  object\n",
      " 10  VKM_Electric_LGV                              79437 non-null  object\n",
      " 11  VKM_2019_-_HGVs_-_Rigid_-_2_Axles             79437 non-null  object\n",
      " 12  VKM_2019_-_HGVs_-_Rigid_-_3_Axles             79437 non-null  object\n",
      " 13  VKM_2019_-_HGVs_-_Rigid_-_4_or_more_Axles     79437 non-null  object\n",
      " 14  VKM_2019_-_HGVs_-_Articulated_-_3_to_4_Axles  79437 non-null  object\n",
      " 15  VKM_2019_-_HGVs_-_Articulated_-_5_Axles       79437 non-null  object\n",
      " 16  VKM_2019_-_HGVs_-_Articulated_-_6_Axles       79437 non-null  object\n",
      " 17  VKM_2019_-_Buses                              79437 non-null  object\n",
      " 18  VKM_2019_-_Coaches                            79437 non-null  object\n",
      " 19  VKM_2019_-_Total                              79437 non-null  object\n",
      " 20  TOID                                          79437 non-null  object\n",
      "dtypes: object(21)\n",
      "memory usage: 12.7+ MB\n"
     ]
    }
   ],
   "source": [
    "vkm_columns = vkm_aadt_speeds_df.filter(like='VKM', axis=1).copy()\n",
    "vkm_columns[\"TOID\"] = vkm_aadt_speeds_df.loc[:, \"TOID\"].copy()\n",
    "vkm_columns.columns = vkm_columns.columns.str.strip().str.replace(' ', '_')\n",
    "vkm_columns.info()\n",
    "del vkm_aadt_speeds_df"
   ]
  },
  {
   "cell_type": "markdown",
   "id": "b4144117-7024-4b65-bca1-b39d4b0eb073",
   "metadata": {},
   "source": [
    "### Prepare the data, remove white space and set \"-\" to NaN. There are ~73k rows before dropna and ~45k after"
   ]
  },
  {
   "cell_type": "code",
   "execution_count": 71,
   "id": "cbff2071-c71c-409f-b16c-0e431a737c19",
   "metadata": {
    "tags": []
   },
   "outputs": [],
   "source": [
    "vkm_columns = vkm_columns.applymap(lambda x: x.strip() if isinstance(x, str) else x)\n",
    "vkm_columns = vkm_columns.replace(\"-\",np.nan)\n",
    "vkm_columns.dropna(inplace=True) "
   ]
  },
  {
   "cell_type": "markdown",
   "id": "09548458-ef01-4b0a-9e2a-4d8ee3e57032",
   "metadata": {},
   "source": [
    "## Update the DataFrame with VKM and AADT info"
   ]
  },
  {
   "cell_type": "code",
   "execution_count": 73,
   "id": "05f80e94-14a9-4d2e-b30d-0073928007fa",
   "metadata": {
    "tags": []
   },
   "outputs": [
    {
     "name": "stdout",
     "output_type": "stream",
     "text": [
      "<class 'pandas.core.frame.DataFrame'>\n",
      "RangeIndex: 79439 entries, 0 to 79438\n",
      "Data columns (total 4 columns):\n",
      " #   Column      Non-Null Count  Dtype  \n",
      "---  ------      --------------  -----  \n",
      " 0   TOID        79439 non-null  object \n",
      " 1   Speed       79436 non-null  float64\n",
      " 2   NOX_Total   79439 non-null  float64\n",
      " 3   PM25_Total  79439 non-null  float64\n",
      "dtypes: float64(3), object(1)\n",
      "memory usage: 2.4+ MB\n"
     ]
    }
   ],
   "source": [
    "summary_df.info()"
   ]
  },
  {
   "cell_type": "code",
   "execution_count": 76,
   "id": "cc2b0f09-f245-48b2-be33-584350ed9303",
   "metadata": {
    "tags": []
   },
   "outputs": [],
   "source": [
    "summary_df = pd.merge(summary_df, aadt_columns, on='TOID', how='outer')"
   ]
  },
  {
   "cell_type": "code",
   "execution_count": 78,
   "id": "894c4d99-9514-4b6d-ac51-9bdd5a9930a8",
   "metadata": {
    "tags": []
   },
   "outputs": [],
   "source": [
    "summary_df = pd.merge(summary_df, vkm_columns, on='TOID', how='outer')"
   ]
  },
  {
   "cell_type": "markdown",
   "id": "9366ef91-68a0-4ad3-82d7-b0d38e0806ab",
   "metadata": {},
   "source": [
    "### Drop the total columns as we dont want them and drop any rows with NaNs"
   ]
  },
  {
   "cell_type": "code",
   "execution_count": 81,
   "id": "fe7fc009-6a9e-44e2-9115-22655c554f97",
   "metadata": {
    "tags": []
   },
   "outputs": [],
   "source": [
    "summary_df.drop(columns=[\"VKM_2019_-_Total\",\"AADT_2019_-_Total\"], axis=1, inplace=True)\n",
    "summary_df.dropna(inplace=True)\n"
   ]
  },
  {
   "cell_type": "code",
   "execution_count": 83,
   "id": "818cb8a2-65b7-43bf-aee8-052c08871926",
   "metadata": {
    "tags": []
   },
   "outputs": [
    {
     "name": "stdout",
     "output_type": "stream",
     "text": [
      "<class 'pandas.core.frame.DataFrame'>\n",
      "Int64Index: 45027 entries, 192 to 79382\n",
      "Data columns (total 42 columns):\n",
      " #   Column                                         Non-Null Count  Dtype  \n",
      "---  ------                                         --------------  -----  \n",
      " 0   TOID                                           45027 non-null  object \n",
      " 1   Speed                                          45027 non-null  float64\n",
      " 2   NOX_Total                                      45027 non-null  float64\n",
      " 3   PM25_Total                                     45027 non-null  float64\n",
      " 4   AADT_Motorcycle                                45027 non-null  float64\n",
      " 5   AADT_Taxi                                      45027 non-null  float64\n",
      " 6   AADT_Petrol_Car                                45027 non-null  float64\n",
      " 7   AADT_Diesel_Car                                45027 non-null  float64\n",
      " 8   AADT_Electric_Car                              45027 non-null  float64\n",
      " 9   AADT_Petrol_PHV                                45027 non-null  float64\n",
      " 10  AADT_Diesel_PHV                                45027 non-null  float64\n",
      " 11  AADT_Electric_PHV                              45027 non-null  float64\n",
      " 12  AADT_Petrol_LGV                                45027 non-null  float64\n",
      " 13  AADT_Diesel_LGV                                45027 non-null  float64\n",
      " 14  AADT_Electric_LGV                              45027 non-null  float64\n",
      " 15  AADT_2019_-_HGVs_-_Rigid_-_2_Axles             45027 non-null  float64\n",
      " 16  AADT_2019_-_HGVs_-_Rigid_-_3_Axles             45027 non-null  float64\n",
      " 17  AADT_2019_-_HGVs_-_Rigid_-_4_or_more_Axles     45027 non-null  float64\n",
      " 18  AADT_2019_-_HGVs_-_Articulated_-_3_to_4_Axles  45027 non-null  float64\n",
      " 19  AADT_2019_-_HGVs_-_Articulated_-_5_Axles       45027 non-null  float64\n",
      " 20  AADT_2019_-_HGVs_-_Articulated_-_6_Axles       45027 non-null  float64\n",
      " 21  AADT_2019_-_Buses                              45027 non-null  float64\n",
      " 22  AADT_2019_-_Coaches                            45027 non-null  float64\n",
      " 23  VKM_Motorcycle                                 45027 non-null  float64\n",
      " 24  VKM_Taxi                                       45027 non-null  float64\n",
      " 25  VKM_Petrol_Car                                 45027 non-null  float64\n",
      " 26  VKM_Diesel_Car                                 45027 non-null  float64\n",
      " 27  VKM_Electric_Car                               45027 non-null  float64\n",
      " 28  VKM_Petrol_PHV                                 45027 non-null  float64\n",
      " 29  VKM_Diesel_PHV                                 45027 non-null  float64\n",
      " 30  VKM_Electric_PHV                               45027 non-null  float64\n",
      " 31  VKM_Petrol_LGV                                 45027 non-null  float64\n",
      " 32  VKM_Diesel_LGV                                 45027 non-null  float64\n",
      " 33  VKM_Electric_LGV                               45027 non-null  float64\n",
      " 34  VKM_2019_-_HGVs_-_Rigid_-_2_Axles              45027 non-null  float64\n",
      " 35  VKM_2019_-_HGVs_-_Rigid_-_3_Axles              45027 non-null  float64\n",
      " 36  VKM_2019_-_HGVs_-_Rigid_-_4_or_more_Axles      45027 non-null  float64\n",
      " 37  VKM_2019_-_HGVs_-_Articulated_-_3_to_4_Axles   45027 non-null  float64\n",
      " 38  VKM_2019_-_HGVs_-_Articulated_-_5_Axles        45027 non-null  float64\n",
      " 39  VKM_2019_-_HGVs_-_Articulated_-_6_Axles        45027 non-null  float64\n",
      " 40  VKM_2019_-_Buses                               45027 non-null  float64\n",
      " 41  VKM_2019_-_Coaches                             45027 non-null  float64\n",
      "dtypes: float64(41), object(1)\n",
      "memory usage: 14.8+ MB\n"
     ]
    }
   ],
   "source": [
    "summary_df.info()"
   ]
  },
  {
   "cell_type": "code",
   "execution_count": 85,
   "id": "8d569217-e29a-42f3-a4c4-0fc88c4869bb",
   "metadata": {
    "tags": []
   },
   "outputs": [
    {
     "data": {
      "text/html": [
       "<div>\n",
       "<style scoped>\n",
       "    .dataframe tbody tr th:only-of-type {\n",
       "        vertical-align: middle;\n",
       "    }\n",
       "\n",
       "    .dataframe tbody tr th {\n",
       "        vertical-align: top;\n",
       "    }\n",
       "\n",
       "    .dataframe thead th {\n",
       "        text-align: right;\n",
       "    }\n",
       "</style>\n",
       "<table border=\"1\" class=\"dataframe\">\n",
       "  <thead>\n",
       "    <tr style=\"text-align: right;\">\n",
       "      <th></th>\n",
       "      <th>TOID</th>\n",
       "      <th>Speed</th>\n",
       "      <th>NOX_Total</th>\n",
       "      <th>PM25_Total</th>\n",
       "      <th>AADT_Motorcycle</th>\n",
       "      <th>AADT_Taxi</th>\n",
       "      <th>AADT_Petrol_Car</th>\n",
       "      <th>AADT_Diesel_Car</th>\n",
       "      <th>AADT_Electric_Car</th>\n",
       "      <th>AADT_Petrol_PHV</th>\n",
       "      <th>...</th>\n",
       "      <th>VKM_Diesel_LGV</th>\n",
       "      <th>VKM_Electric_LGV</th>\n",
       "      <th>VKM_2019_-_HGVs_-_Rigid_-_2_Axles</th>\n",
       "      <th>VKM_2019_-_HGVs_-_Rigid_-_3_Axles</th>\n",
       "      <th>VKM_2019_-_HGVs_-_Rigid_-_4_or_more_Axles</th>\n",
       "      <th>VKM_2019_-_HGVs_-_Articulated_-_3_to_4_Axles</th>\n",
       "      <th>VKM_2019_-_HGVs_-_Articulated_-_5_Axles</th>\n",
       "      <th>VKM_2019_-_HGVs_-_Articulated_-_6_Axles</th>\n",
       "      <th>VKM_2019_-_Buses</th>\n",
       "      <th>VKM_2019_-_Coaches</th>\n",
       "    </tr>\n",
       "  </thead>\n",
       "  <tbody>\n",
       "    <tr>\n",
       "      <th>192</th>\n",
       "      <td>osgb4000000027887298</td>\n",
       "      <td>30.0</td>\n",
       "      <td>0.896184</td>\n",
       "      <td>0.020956</td>\n",
       "      <td>107.0</td>\n",
       "      <td>14.0</td>\n",
       "      <td>4602.0</td>\n",
       "      <td>3181.0</td>\n",
       "      <td>27.0</td>\n",
       "      <td>86.0</td>\n",
       "      <td>...</td>\n",
       "      <td>162590.0</td>\n",
       "      <td>357.0</td>\n",
       "      <td>8744.0</td>\n",
       "      <td>1780.0</td>\n",
       "      <td>3482.0</td>\n",
       "      <td>1238.0</td>\n",
       "      <td>6577.0</td>\n",
       "      <td>8744.0</td>\n",
       "      <td>4875.0</td>\n",
       "      <td>10911.0</td>\n",
       "    </tr>\n",
       "    <tr>\n",
       "      <th>196</th>\n",
       "      <td>osgb4000000027887313</td>\n",
       "      <td>45.0</td>\n",
       "      <td>0.553449</td>\n",
       "      <td>0.015519</td>\n",
       "      <td>171.0</td>\n",
       "      <td>29.0</td>\n",
       "      <td>10533.0</td>\n",
       "      <td>7279.0</td>\n",
       "      <td>62.0</td>\n",
       "      <td>564.0</td>\n",
       "      <td>...</td>\n",
       "      <td>106375.0</td>\n",
       "      <td>233.0</td>\n",
       "      <td>18887.0</td>\n",
       "      <td>5143.0</td>\n",
       "      <td>3429.0</td>\n",
       "      <td>1686.0</td>\n",
       "      <td>5143.0</td>\n",
       "      <td>3429.0</td>\n",
       "      <td>3457.0</td>\n",
       "      <td>815.0</td>\n",
       "    </tr>\n",
       "    <tr>\n",
       "      <th>213</th>\n",
       "      <td>osgb4000000027887403</td>\n",
       "      <td>118.0</td>\n",
       "      <td>2.891096</td>\n",
       "      <td>0.027219</td>\n",
       "      <td>217.0</td>\n",
       "      <td>16.0</td>\n",
       "      <td>12493.0</td>\n",
       "      <td>8634.0</td>\n",
       "      <td>74.0</td>\n",
       "      <td>370.0</td>\n",
       "      <td>...</td>\n",
       "      <td>384207.0</td>\n",
       "      <td>843.0</td>\n",
       "      <td>117164.0</td>\n",
       "      <td>31848.0</td>\n",
       "      <td>21310.0</td>\n",
       "      <td>10539.0</td>\n",
       "      <td>31848.0</td>\n",
       "      <td>21310.0</td>\n",
       "      <td>2480.0</td>\n",
       "      <td>75010.0</td>\n",
       "    </tr>\n",
       "    <tr>\n",
       "      <th>222</th>\n",
       "      <td>osgb4000000027887455</td>\n",
       "      <td>52.0</td>\n",
       "      <td>0.126330</td>\n",
       "      <td>0.003169</td>\n",
       "      <td>17.0</td>\n",
       "      <td>6.0</td>\n",
       "      <td>1028.0</td>\n",
       "      <td>710.0</td>\n",
       "      <td>6.0</td>\n",
       "      <td>28.0</td>\n",
       "      <td>...</td>\n",
       "      <td>23814.0</td>\n",
       "      <td>52.0</td>\n",
       "      <td>3520.0</td>\n",
       "      <td>943.0</td>\n",
       "      <td>629.0</td>\n",
       "      <td>314.0</td>\n",
       "      <td>943.0</td>\n",
       "      <td>629.0</td>\n",
       "      <td>754.0</td>\n",
       "      <td>1634.0</td>\n",
       "    </tr>\n",
       "    <tr>\n",
       "      <th>325</th>\n",
       "      <td>osgb4000000027909176</td>\n",
       "      <td>118.0</td>\n",
       "      <td>0.670890</td>\n",
       "      <td>0.006510</td>\n",
       "      <td>217.0</td>\n",
       "      <td>16.0</td>\n",
       "      <td>12493.0</td>\n",
       "      <td>8634.0</td>\n",
       "      <td>74.0</td>\n",
       "      <td>370.0</td>\n",
       "      <td>...</td>\n",
       "      <td>91573.0</td>\n",
       "      <td>201.0</td>\n",
       "      <td>36716.0</td>\n",
       "      <td>9992.0</td>\n",
       "      <td>6686.0</td>\n",
       "      <td>3306.0</td>\n",
       "      <td>9992.0</td>\n",
       "      <td>6686.0</td>\n",
       "      <td>591.0</td>\n",
       "      <td>129.0</td>\n",
       "    </tr>\n",
       "  </tbody>\n",
       "</table>\n",
       "<p>5 rows × 42 columns</p>\n",
       "</div>"
      ],
      "text/plain": [
       "                     TOID  Speed  NOX_Total  PM25_Total  AADT_Motorcycle  \\\n",
       "192  osgb4000000027887298   30.0   0.896184    0.020956            107.0   \n",
       "196  osgb4000000027887313   45.0   0.553449    0.015519            171.0   \n",
       "213  osgb4000000027887403  118.0   2.891096    0.027219            217.0   \n",
       "222  osgb4000000027887455   52.0   0.126330    0.003169             17.0   \n",
       "325  osgb4000000027909176  118.0   0.670890    0.006510            217.0   \n",
       "\n",
       "     AADT_Taxi  AADT_Petrol_Car  AADT_Diesel_Car  AADT_Electric_Car  \\\n",
       "192       14.0           4602.0           3181.0               27.0   \n",
       "196       29.0          10533.0           7279.0               62.0   \n",
       "213       16.0          12493.0           8634.0               74.0   \n",
       "222        6.0           1028.0            710.0                6.0   \n",
       "325       16.0          12493.0           8634.0               74.0   \n",
       "\n",
       "     AADT_Petrol_PHV  ...  VKM_Diesel_LGV  VKM_Electric_LGV  \\\n",
       "192             86.0  ...        162590.0             357.0   \n",
       "196            564.0  ...        106375.0             233.0   \n",
       "213            370.0  ...        384207.0             843.0   \n",
       "222             28.0  ...         23814.0              52.0   \n",
       "325            370.0  ...         91573.0             201.0   \n",
       "\n",
       "     VKM_2019_-_HGVs_-_Rigid_-_2_Axles  VKM_2019_-_HGVs_-_Rigid_-_3_Axles  \\\n",
       "192                             8744.0                             1780.0   \n",
       "196                            18887.0                             5143.0   \n",
       "213                           117164.0                            31848.0   \n",
       "222                             3520.0                              943.0   \n",
       "325                            36716.0                             9992.0   \n",
       "\n",
       "     VKM_2019_-_HGVs_-_Rigid_-_4_or_more_Axles  \\\n",
       "192                                     3482.0   \n",
       "196                                     3429.0   \n",
       "213                                    21310.0   \n",
       "222                                      629.0   \n",
       "325                                     6686.0   \n",
       "\n",
       "     VKM_2019_-_HGVs_-_Articulated_-_3_to_4_Axles  \\\n",
       "192                                        1238.0   \n",
       "196                                        1686.0   \n",
       "213                                       10539.0   \n",
       "222                                         314.0   \n",
       "325                                        3306.0   \n",
       "\n",
       "     VKM_2019_-_HGVs_-_Articulated_-_5_Axles  \\\n",
       "192                                   6577.0   \n",
       "196                                   5143.0   \n",
       "213                                  31848.0   \n",
       "222                                    943.0   \n",
       "325                                   9992.0   \n",
       "\n",
       "     VKM_2019_-_HGVs_-_Articulated_-_6_Axles  VKM_2019_-_Buses  \\\n",
       "192                                   8744.0            4875.0   \n",
       "196                                   3429.0            3457.0   \n",
       "213                                  21310.0            2480.0   \n",
       "222                                    629.0             754.0   \n",
       "325                                   6686.0             591.0   \n",
       "\n",
       "     VKM_2019_-_Coaches  \n",
       "192             10911.0  \n",
       "196               815.0  \n",
       "213             75010.0  \n",
       "222              1634.0  \n",
       "325               129.0  \n",
       "\n",
       "[5 rows x 42 columns]"
      ]
     },
     "execution_count": 85,
     "metadata": {},
     "output_type": "execute_result"
    }
   ],
   "source": [
    "summary_df.head()"
   ]
  },
  {
   "cell_type": "markdown",
   "id": "2d4294ff-2192-4fd6-8640-d64322535c1b",
   "metadata": {},
   "source": [
    "# FIRST ALGORITHM\n",
    "Use the RandomForestRegressor to identify the key contributors to each gas.\n",
    "This algorithm is not sensitive to scaling, so the data is not scaled"
   ]
  },
  {
   "cell_type": "code",
   "execution_count": 88,
   "id": "a6af8ce7-e32c-4399-ae58-4ffd36ca8132",
   "metadata": {
    "tags": []
   },
   "outputs": [
    {
     "data": {
      "text/plain": [
       "['AADT_Motorcycle',\n",
       " 'AADT_Taxi',\n",
       " 'AADT_Petrol_Car',\n",
       " 'AADT_Diesel_Car',\n",
       " 'AADT_Electric_Car',\n",
       " 'AADT_Petrol_PHV',\n",
       " 'AADT_Diesel_PHV',\n",
       " 'AADT_Electric_PHV',\n",
       " 'AADT_Petrol_LGV',\n",
       " 'AADT_Diesel_LGV',\n",
       " 'AADT_Electric_LGV',\n",
       " 'AADT_2019_-_HGVs_-_Rigid_-_2_Axles',\n",
       " 'AADT_2019_-_HGVs_-_Rigid_-_3_Axles',\n",
       " 'AADT_2019_-_HGVs_-_Rigid_-_4_or_more_Axles',\n",
       " 'AADT_2019_-_HGVs_-_Articulated_-_3_to_4_Axles',\n",
       " 'AADT_2019_-_HGVs_-_Articulated_-_5_Axles',\n",
       " 'AADT_2019_-_HGVs_-_Articulated_-_6_Axles',\n",
       " 'AADT_2019_-_Buses',\n",
       " 'AADT_2019_-_Coaches',\n",
       " 'VKM_Motorcycle',\n",
       " 'VKM_Taxi',\n",
       " 'VKM_Petrol_Car',\n",
       " 'VKM_Diesel_Car',\n",
       " 'VKM_Electric_Car',\n",
       " 'VKM_Petrol_PHV',\n",
       " 'VKM_Diesel_PHV',\n",
       " 'VKM_Electric_PHV',\n",
       " 'VKM_Petrol_LGV',\n",
       " 'VKM_Diesel_LGV',\n",
       " 'VKM_Electric_LGV',\n",
       " 'VKM_2019_-_HGVs_-_Rigid_-_2_Axles',\n",
       " 'VKM_2019_-_HGVs_-_Rigid_-_3_Axles',\n",
       " 'VKM_2019_-_HGVs_-_Rigid_-_4_or_more_Axles',\n",
       " 'VKM_2019_-_HGVs_-_Articulated_-_3_to_4_Axles',\n",
       " 'VKM_2019_-_HGVs_-_Articulated_-_5_Axles',\n",
       " 'VKM_2019_-_HGVs_-_Articulated_-_6_Axles',\n",
       " 'VKM_2019_-_Buses',\n",
       " 'VKM_2019_-_Coaches']"
      ]
     },
     "execution_count": 88,
     "metadata": {},
     "output_type": "execute_result"
    }
   ],
   "source": [
    "list_of_not_gas = []\n",
    "for column in summary_df.columns:\n",
    "    if 'AADT' in column or 'VKM' in column:\n",
    "        list_of_not_gas.append(column)\n",
    "list_of_not_gas"
   ]
  },
  {
   "cell_type": "markdown",
   "id": "70b25138-5796-43c9-8b41-9f5ec1d25d9b",
   "metadata": {},
   "source": [
    "## NOX"
   ]
  },
  {
   "cell_type": "code",
   "execution_count": 91,
   "id": "138fa692-e559-4e2b-bd74-4f7d9a94105e",
   "metadata": {
    "tags": []
   },
   "outputs": [],
   "source": [
    "vehicle_metrics = summary_df[list_of_not_gas]"
   ]
  },
  {
   "cell_type": "code",
   "execution_count": 93,
   "id": "2019b9c3-a898-4178-981a-9dddd39aea82",
   "metadata": {
    "tags": []
   },
   "outputs": [],
   "source": [
    "NOX = summary_df['NOX_Total']"
   ]
  },
  {
   "cell_type": "code",
   "execution_count": 95,
   "id": "53b6d5a4-d958-4809-8714-2665b5c2d57c",
   "metadata": {
    "tags": []
   },
   "outputs": [
    {
     "data": {
      "image/png": "[encoded data removed]",
      "text/plain": [
       "<Figure size 640x480 with 1 Axes>"
      ]
     },
     "metadata": {},
     "output_type": "display_data"
    }
   ],
   "source": [
    "model = RandomForestRegressor()\n",
    "VM_train, VM_test, NOX_train, NOX_test = train_test_split(vehicle_metrics, NOX, test_size=0.2, random_state=42)\n",
    "model.fit(VM_train, NOX_train)\n",
    "NOX_pred = model.predict(VM_test)\n",
    "\n",
    "feature_importances = pd.Series(model.feature_importances_, index=vehicle_metrics.columns)\n",
    "feature_importances.sort_values().plot(kind='barh')\n",
    "plt.title('Feature Importance for NOX')\n",
    "plt.show()"
   ]
  },
  {
   "cell_type": "code",
   "execution_count": 96,
   "id": "5f929d1e-5ccf-4306-985b-9134308e2688",
   "metadata": {},
   "outputs": [
    {
     "name": "stdout",
     "output_type": "stream",
     "text": [
      "RandomForestRegressor NOX Performance:\n",
      " MAE: 0.0611848169048847\n",
      " MSE: 0.03249287145630195\n",
      " R²: 0.9437512938818996\n"
     ]
    }
   ],
   "source": [
    "NOX_MAE = mean_absolute_error(NOX_test, NOX_pred)\n",
    "NOX_MSE = mean_squared_error(NOX_test, NOX_pred)\n",
    "NOX_R2 = r2_score(NOX_test, NOX_pred)\n",
    "\n",
    "print(f\"RandomForestRegressor NOX Performance:\\n MAE: {NOX_MAE}\\n MSE: {NOX_MSE}\\n R²: {NOX_R2}\")"
   ]
  },
  {
   "cell_type": "markdown",
   "id": "cad230bb-7fdc-4407-ae09-b7f1f17c4174",
   "metadata": {},
   "source": [
    "## PM25"
   ]
  },
  {
   "cell_type": "code",
   "execution_count": 98,
   "id": "75c2c175-2030-4ef2-90e7-3a96a2e31c83",
   "metadata": {
    "tags": []
   },
   "outputs": [],
   "source": [
    "PM25 = summary_df['PM25_Total']"
   ]
  },
  {
   "cell_type": "code",
   "execution_count": 99,
   "id": "bbc93522-8eb5-4306-9522-69f08a4a42a0",
   "metadata": {
    "tags": []
   },
   "outputs": [
    {
     "data": {
      "image/png": "[encoded data removed]",
      "text/plain": [
       "<Figure size 640x480 with 1 Axes>"
      ]
     },
     "metadata": {},
     "output_type": "display_data"
    }
   ],
   "source": [
    "VM_train, VM_test, Pm25_train, Pm25_test = train_test_split(vehicle_metrics, PM25, test_size=0.2, random_state=42)\n",
    "model = RandomForestRegressor()\n",
    "model.fit(VM_train, Pm25_train)\n",
    "\n",
    "PM25_pred = model.predict(VM_test)\n",
    "\n",
    "feature_importances = pd.Series(model.feature_importances_, index=vehicle_metrics.columns)\n",
    "feature_importances.sort_values().plot(kind='barh')\n",
    "plt.title('Feature Importance for PM25')\n",
    "plt.show()"
   ]
  },
  {
   "cell_type": "code",
   "execution_count": 100,
   "id": "88eabfe8-3193-4a27-9e6c-48d7d548ab5e",
   "metadata": {},
   "outputs": [
    {
     "name": "stdout",
     "output_type": "stream",
     "text": [
      "RandomForestRegressor PM25 Performance:\n",
      " MAE: 0.0006551445464939765\n",
      " MSE: 9.995968201595091e-06\n",
      " R²: 0.9676926974916716\n"
     ]
    }
   ],
   "source": [
    "PM25_MAE = mean_absolute_error(Pm25_test, PM25_pred)\n",
    "PM25_MSE = mean_squared_error(Pm25_test, PM25_pred)\n",
    "PM25_R2 = r2_score(Pm25_test, PM25_pred)\n",
    "\n",
    "print(f\"RandomForestRegressor PM25 Performance:\\n MAE: {PM25_MAE}\\n MSE: {PM25_MSE}\\n R²: {PM25_R2}\")"
   ]
  },
  {
   "cell_type": "markdown",
   "id": "4c5cb4dd-57d1-4cc4-9058-931dc6df7580",
   "metadata": {},
   "source": [
    "# Do PCA to see if that compliments the above findings, which are that four features, the Vehicle Kilometre of Diesel Cars, Electric Cars, Petrol Cars and Diesel LGVs contribute mostly to each pollutant"
   ]
  },
  {
   "cell_type": "code",
   "execution_count": 109,
   "id": "76dec919-4aff-49b0-982d-b59175a97a15",
   "metadata": {
    "tags": []
   },
   "outputs": [],
   "source": [
    "list_of_features = summary_df.columns.to_list()\n",
    "\n",
    "list_of_features.remove(\"TOID\")\n",
    "list_of_features.remove(\"PM25_Total\")\n",
    "list_of_features.remove(\"NOX_Total\")\n",
    "X = summary_df[list_of_features]"
   ]
  },
  {
   "cell_type": "code",
   "execution_count": 111,
   "id": "6aaceed4-f7d4-4f5e-9227-69b200ad3edd",
   "metadata": {
    "tags": []
   },
   "outputs": [],
   "source": [
    "scaler = StandardScaler()\n",
    "X_scaled = scaler.fit_transform(X)"
   ]
  },
  {
   "cell_type": "code",
   "execution_count": 115,
   "id": "d6f0ab2d-3261-4c38-930b-a9981b208bf9",
   "metadata": {
    "tags": []
   },
   "outputs": [
    {
     "data": {
      "text/html": [
       "<div>\n",
       "<style scoped>\n",
       "    .dataframe tbody tr th:only-of-type {\n",
       "        vertical-align: middle;\n",
       "    }\n",
       "\n",
       "    .dataframe tbody tr th {\n",
       "        vertical-align: top;\n",
       "    }\n",
       "\n",
       "    .dataframe thead th {\n",
       "        text-align: right;\n",
       "    }\n",
       "</style>\n",
       "<table border=\"1\" class=\"dataframe\">\n",
       "  <thead>\n",
       "    <tr style=\"text-align: right;\">\n",
       "      <th></th>\n",
       "      <th>PC1</th>\n",
       "      <th>PC2</th>\n",
       "      <th>PC3</th>\n",
       "      <th>PC4</th>\n",
       "    </tr>\n",
       "  </thead>\n",
       "  <tbody>\n",
       "    <tr>\n",
       "      <th>0</th>\n",
       "      <td>0.388211</td>\n",
       "      <td>-2.261926</td>\n",
       "      <td>-1.122306</td>\n",
       "      <td>-0.495092</td>\n",
       "    </tr>\n",
       "    <tr>\n",
       "      <th>1</th>\n",
       "      <td>3.698874</td>\n",
       "      <td>1.374050</td>\n",
       "      <td>-3.560743</td>\n",
       "      <td>-1.352199</td>\n",
       "    </tr>\n",
       "    <tr>\n",
       "      <th>2</th>\n",
       "      <td>16.257425</td>\n",
       "      <td>-2.147301</td>\n",
       "      <td>-8.439360</td>\n",
       "      <td>-2.479646</td>\n",
       "    </tr>\n",
       "    <tr>\n",
       "      <th>3</th>\n",
       "      <td>-3.103916</td>\n",
       "      <td>-2.512625</td>\n",
       "      <td>-0.071834</td>\n",
       "      <td>-0.989244</td>\n",
       "    </tr>\n",
       "    <tr>\n",
       "      <th>4</th>\n",
       "      <td>9.863824</td>\n",
       "      <td>5.004262</td>\n",
       "      <td>-12.406128</td>\n",
       "      <td>-4.074521</td>\n",
       "    </tr>\n",
       "  </tbody>\n",
       "</table>\n",
       "</div>"
      ],
      "text/plain": [
       "         PC1       PC2        PC3       PC4\n",
       "0   0.388211 -2.261926  -1.122306 -0.495092\n",
       "1   3.698874  1.374050  -3.560743 -1.352199\n",
       "2  16.257425 -2.147301  -8.439360 -2.479646\n",
       "3  -3.103916 -2.512625  -0.071834 -0.989244\n",
       "4   9.863824  5.004262 -12.406128 -4.074521"
      ]
     },
     "execution_count": 115,
     "metadata": {},
     "output_type": "execute_result"
    }
   ],
   "source": [
    "pca = PCA(n_components=4) #Three gases and four vehicle paramters\n",
    "principal_components = pca.fit_transform(X_scaled)\n",
    "pca_df = pd.DataFrame(data=principal_components, columns=['PC1', 'PC2', 'PC3', 'PC4'])\n",
    "pca_df.head()"
   ]
  },
  {
   "cell_type": "code",
   "execution_count": 117,
   "id": "96900932-6129-4142-8e17-11e4150398cf",
   "metadata": {
    "tags": []
   },
   "outputs": [
    {
     "data": {
      "image/png": "[encoded data removed]",
      "text/plain": [
       "<Figure size 800x500 with 1 Axes>"
      ]
     },
     "metadata": {},
     "output_type": "display_data"
    }
   ],
   "source": [
    "# Plot explained variance\n",
    "plt.figure(figsize=(8, 5))\n",
    "plt.plot(np.cumsum(pca.explained_variance_ratio_), marker='o')\n",
    "plt.xlabel('Number of Principal Components')\n",
    "plt.ylabel('Cumulative Explained Variance')\n",
    "plt.title('Explained Variance by Principal Components')\n",
    "plt.grid(True)\n",
    "plt.show()"
   ]
  },
  {
   "cell_type": "markdown",
   "id": "bafd39e0-18c8-4154-8009-c112bdd6feeb",
   "metadata": {},
   "source": [
    "The above shows that 80% of the variance is explained by 7 of the variables"
   ]
  },
  {
   "cell_type": "code",
   "execution_count": 70,
   "id": "8289a83a-e1c5-45ec-8cff-00311f116b47",
   "metadata": {},
   "outputs": [],
   "source": [
    "del pca_df, principal_components, pca, X, X_scaled, scaler"
   ]
  },
  {
   "cell_type": "markdown",
   "id": "00ebdc09-42ab-4edd-8c4d-ed96c8fec43b",
   "metadata": {},
   "source": [
    "## Top three from each table combined captures four features, re-run randomforestregression, for summary"
   ]
  },
  {
   "cell_type": "code",
   "execution_count": 72,
   "id": "0918e6d5-d6e0-41b7-b740-24b32aa3b45a",
   "metadata": {
    "tags": []
   },
   "outputs": [],
   "source": [
    "TOP_IMPORTANCE = [\"VKM_Diesel_LGV\", \"VKM_Diesel_Car\", \"VKM_Petrol_Car\", \"VKM_Electric_Car\"]"
   ]
  },
  {
   "cell_type": "code",
   "execution_count": 73,
   "id": "f8296c40-4aa9-46e5-adc2-1480c0268623",
   "metadata": {},
   "outputs": [],
   "source": [
    "import_vehicle_metrics = summary_df[TOP_IMPORTANCE]"
   ]
  },
  {
   "cell_type": "markdown",
   "id": "6b841719-84d6-4bbb-ac66-0afe4b686d80",
   "metadata": {},
   "source": [
    "### NOX"
   ]
  },
  {
   "cell_type": "code",
   "execution_count": 75,
   "id": "216a0699-da58-4082-a1d5-7bc2f4489c77",
   "metadata": {
    "tags": []
   },
   "outputs": [],
   "source": [
    "nox_total = summary_df['NOX_Total']"
   ]
  },
  {
   "cell_type": "code",
   "execution_count": 76,
   "id": "85228513-23d1-4539-8856-2e1bcc2b4a04",
   "metadata": {
    "tags": []
   },
   "outputs": [
    {
     "data": {
      "image/png": "[encoded data removed]",
      "text/plain": [
       "<Figure size 640x480 with 1 Axes>"
      ]
     },
     "metadata": {},
     "output_type": "display_data"
    }
   ],
   "source": [
    "model = RandomForestRegressor()\n",
    "model.fit(import_vehicle_metrics, nox_total)\n",
    "feature_importances = pd.Series(model.feature_importances_, index=import_vehicle_metrics.columns)\n",
    "feature_importances.sort_values().plot(kind='barh')\n",
    "plt.title('Feature Importance for NOX')\n",
    "plt.show()"
   ]
  },
  {
   "cell_type": "markdown",
   "id": "20284ae3-75e8-461f-b847-adccaefc7ff8",
   "metadata": {},
   "source": [
    "# PM25"
   ]
  },
  {
   "cell_type": "code",
   "execution_count": 78,
   "id": "6c759106-7041-402d-b700-0156bb932965",
   "metadata": {
    "tags": []
   },
   "outputs": [],
   "source": [
    "pm25_total = summary_df['PM25_Total']"
   ]
  },
  {
   "cell_type": "code",
   "execution_count": 79,
   "id": "22aa8de2-f459-4ad6-8a29-85f9bb3aa614",
   "metadata": {
    "tags": []
   },
   "outputs": [
    {
     "data": {
      "image/png": "[encoded data removed]",
      "text/plain": [
       "<Figure size 640x480 with 1 Axes>"
      ]
     },
     "metadata": {},
     "output_type": "display_data"
    }
   ],
   "source": [
    "model = RandomForestRegressor()\n",
    "model.fit(import_vehicle_metrics, pm25_total)\n",
    "feature_importances = pd.Series(model.feature_importances_, index=import_vehicle_metrics.columns)\n",
    "feature_importances.sort_values().plot(kind='barh')\n",
    "plt.title('Feature Importance for PM25')\n",
    "plt.show()"
   ]
  },
  {
   "cell_type": "markdown",
   "id": "4b84e6dc-75df-4100-af27-2aac721628ae",
   "metadata": {},
   "source": [
    "---\n",
    "# Part Two: Load up grid coordinate correlated data"
   ]
  },
  {
   "cell_type": "code",
   "execution_count": 81,
   "id": "a81dd008-39cc-48d5-ae9f-1722d91f4b86",
   "metadata": {
    "tags": []
   },
   "outputs": [],
   "source": [
    "pm25_concentration = pd.read_csv(CONCENTRATIONS_DATA_PM25)\n",
    "nox_concentration = pd.read_csv(CONCENTRATIONS_DATA_NOX)\n",
    "grid_df = pd.read_excel(GRID_EMISSIONS, sheet_name=\"Emissions by Grid ID\")"
   ]
  },
  {
   "cell_type": "code",
   "execution_count": 82,
   "id": "eb5a62a0-72b8-4881-98ca-5d4962b77bf1",
   "metadata": {
    "tags": []
   },
   "outputs": [
    {
     "data": {
      "text/html": [
       "<div>\n",
       "<style scoped>\n",
       "    .dataframe tbody tr th:only-of-type {\n",
       "        vertical-align: middle;\n",
       "    }\n",
       "\n",
       "    .dataframe tbody tr th {\n",
       "        vertical-align: top;\n",
       "    }\n",
       "\n",
       "    .dataframe thead th {\n",
       "        text-align: right;\n",
       "    }\n",
       "</style>\n",
       "<table border=\"1\" class=\"dataframe\">\n",
       "  <thead>\n",
       "    <tr style=\"text-align: right;\">\n",
       "      <th></th>\n",
       "      <th>x</th>\n",
       "      <th>y</th>\n",
       "      <th>conc</th>\n",
       "    </tr>\n",
       "  </thead>\n",
       "  <tbody>\n",
       "    <tr>\n",
       "      <th>0</th>\n",
       "      <td>519100</td>\n",
       "      <td>203440</td>\n",
       "      <td>37.54391</td>\n",
       "    </tr>\n",
       "    <tr>\n",
       "      <th>1</th>\n",
       "      <td>519120</td>\n",
       "      <td>203440</td>\n",
       "      <td>40.60276</td>\n",
       "    </tr>\n",
       "    <tr>\n",
       "      <th>2</th>\n",
       "      <td>519140</td>\n",
       "      <td>203440</td>\n",
       "      <td>47.19806</td>\n",
       "    </tr>\n",
       "    <tr>\n",
       "      <th>3</th>\n",
       "      <td>519160</td>\n",
       "      <td>203440</td>\n",
       "      <td>43.32369</td>\n",
       "    </tr>\n",
       "    <tr>\n",
       "      <th>4</th>\n",
       "      <td>519180</td>\n",
       "      <td>203440</td>\n",
       "      <td>39.57808</td>\n",
       "    </tr>\n",
       "  </tbody>\n",
       "</table>\n",
       "</div>"
      ],
      "text/plain": [
       "        x       y      conc\n",
       "0  519100  203440  37.54391\n",
       "1  519120  203440  40.60276\n",
       "2  519140  203440  47.19806\n",
       "3  519160  203440  43.32369\n",
       "4  519180  203440  39.57808"
      ]
     },
     "execution_count": 82,
     "metadata": {},
     "output_type": "execute_result"
    }
   ],
   "source": [
    "nox_concentration.head()"
   ]
  },
  {
   "cell_type": "code",
   "execution_count": 83,
   "id": "4c3f0eb9-72ee-4428-aeb4-f30071669701",
   "metadata": {
    "tags": []
   },
   "outputs": [
    {
     "data": {
      "text/html": [
       "<div>\n",
       "<style scoped>\n",
       "    .dataframe tbody tr th:only-of-type {\n",
       "        vertical-align: middle;\n",
       "    }\n",
       "\n",
       "    .dataframe tbody tr th {\n",
       "        vertical-align: top;\n",
       "    }\n",
       "\n",
       "    .dataframe thead th {\n",
       "        text-align: right;\n",
       "    }\n",
       "</style>\n",
       "<table border=\"1\" class=\"dataframe\">\n",
       "  <thead>\n",
       "    <tr style=\"text-align: right;\">\n",
       "      <th></th>\n",
       "      <th>x</th>\n",
       "      <th>y</th>\n",
       "      <th>conc</th>\n",
       "    </tr>\n",
       "  </thead>\n",
       "  <tbody>\n",
       "    <tr>\n",
       "      <th>0</th>\n",
       "      <td>519100</td>\n",
       "      <td>203440</td>\n",
       "      <td>9.567125</td>\n",
       "    </tr>\n",
       "    <tr>\n",
       "      <th>1</th>\n",
       "      <td>519120</td>\n",
       "      <td>203440</td>\n",
       "      <td>9.687501</td>\n",
       "    </tr>\n",
       "    <tr>\n",
       "      <th>2</th>\n",
       "      <td>519140</td>\n",
       "      <td>203440</td>\n",
       "      <td>9.953107</td>\n",
       "    </tr>\n",
       "    <tr>\n",
       "      <th>3</th>\n",
       "      <td>519160</td>\n",
       "      <td>203440</td>\n",
       "      <td>9.791943</td>\n",
       "    </tr>\n",
       "    <tr>\n",
       "      <th>4</th>\n",
       "      <td>519180</td>\n",
       "      <td>203440</td>\n",
       "      <td>9.635820</td>\n",
       "    </tr>\n",
       "  </tbody>\n",
       "</table>\n",
       "</div>"
      ],
      "text/plain": [
       "        x       y      conc\n",
       "0  519100  203440  9.567125\n",
       "1  519120  203440  9.687501\n",
       "2  519140  203440  9.953107\n",
       "3  519160  203440  9.791943\n",
       "4  519180  203440  9.635820"
      ]
     },
     "execution_count": 83,
     "metadata": {},
     "output_type": "execute_result"
    }
   ],
   "source": [
    "pm25_concentration.head()"
   ]
  },
  {
   "cell_type": "code",
   "execution_count": 84,
   "id": "81b452c7-6080-4c00-ac96-9b227fe83383",
   "metadata": {
    "tags": []
   },
   "outputs": [
    {
     "name": "stdout",
     "output_type": "stream",
     "text": [
      "<class 'pandas.core.frame.DataFrame'>\n",
      "RangeIndex: 5851964 entries, 0 to 5851963\n",
      "Data columns (total 3 columns):\n",
      " #   Column  Dtype  \n",
      "---  ------  -----  \n",
      " 0   x       int64  \n",
      " 1   y       int64  \n",
      " 2   conc    float64\n",
      "dtypes: float64(1), int64(2)\n",
      "memory usage: 133.9 MB\n"
     ]
    }
   ],
   "source": [
    "nox_concentration.info()"
   ]
  },
  {
   "cell_type": "code",
   "execution_count": 85,
   "id": "ca18ade2-7b59-4b99-840c-083864c5825e",
   "metadata": {
    "tags": []
   },
   "outputs": [
    {
     "name": "stdout",
     "output_type": "stream",
     "text": [
      "<class 'pandas.core.frame.DataFrame'>\n",
      "RangeIndex: 5851964 entries, 0 to 5851963\n",
      "Data columns (total 3 columns):\n",
      " #   Column  Dtype  \n",
      "---  ------  -----  \n",
      " 0   x       int64  \n",
      " 1   y       int64  \n",
      " 2   conc    float64\n",
      "dtypes: float64(1), int64(2)\n",
      "memory usage: 133.9 MB\n"
     ]
    }
   ],
   "source": [
    "pm25_concentration.info()"
   ]
  },
  {
   "cell_type": "code",
   "execution_count": 86,
   "id": "6e54fcd4-4240-4e94-a474-7b0f5a85f0e0",
   "metadata": {
    "tags": []
   },
   "outputs": [
    {
     "data": {
      "text/html": [
       "<div>\n",
       "<style scoped>\n",
       "    .dataframe tbody tr th:only-of-type {\n",
       "        vertical-align: middle;\n",
       "    }\n",
       "\n",
       "    .dataframe tbody tr th {\n",
       "        vertical-align: top;\n",
       "    }\n",
       "\n",
       "    .dataframe thead th {\n",
       "        text-align: right;\n",
       "    }\n",
       "</style>\n",
       "<table border=\"1\" class=\"dataframe\">\n",
       "  <thead>\n",
       "    <tr style=\"text-align: right;\">\n",
       "      <th></th>\n",
       "      <th>Year</th>\n",
       "      <th>Grid ID 2019</th>\n",
       "      <th>LAEI 1km2 ID</th>\n",
       "      <th>Easting</th>\n",
       "      <th>Northing</th>\n",
       "      <th>Borough</th>\n",
       "      <th>Zone</th>\n",
       "      <th>Main Source Category</th>\n",
       "      <th>Sector</th>\n",
       "      <th>Source</th>\n",
       "      <th>...</th>\n",
       "      <th>n2o</th>\n",
       "      <th>nh3</th>\n",
       "      <th>nmvoc</th>\n",
       "      <th>nox</th>\n",
       "      <th>pb</th>\n",
       "      <th>pcb</th>\n",
       "      <th>pm10</th>\n",
       "      <th>pm2.5</th>\n",
       "      <th>so2</th>\n",
       "      <th>Emissions Unit</th>\n",
       "    </tr>\n",
       "  </thead>\n",
       "  <tbody>\n",
       "    <tr>\n",
       "      <th>0</th>\n",
       "      <td>2030</td>\n",
       "      <td>1</td>\n",
       "      <td>5910</td>\n",
       "      <td>510500</td>\n",
       "      <td>203500</td>\n",
       "      <td>Non GLA</td>\n",
       "      <td>Non GLA</td>\n",
       "      <td>Domestic</td>\n",
       "      <td>Biomass</td>\n",
       "      <td>Wood Burning</td>\n",
       "      <td>...</td>\n",
       "      <td>NaN</td>\n",
       "      <td>NaN</td>\n",
       "      <td>NaN</td>\n",
       "      <td>NaN</td>\n",
       "      <td>NaN</td>\n",
       "      <td>NaN</td>\n",
       "      <td>0.019183</td>\n",
       "      <td>0.019183</td>\n",
       "      <td>NaN</td>\n",
       "      <td>tonnes/annum</td>\n",
       "    </tr>\n",
       "    <tr>\n",
       "      <th>1</th>\n",
       "      <td>2030</td>\n",
       "      <td>2</td>\n",
       "      <td>5911</td>\n",
       "      <td>511500</td>\n",
       "      <td>203500</td>\n",
       "      <td>Non GLA</td>\n",
       "      <td>Non GLA</td>\n",
       "      <td>Domestic</td>\n",
       "      <td>Biomass</td>\n",
       "      <td>Wood Burning</td>\n",
       "      <td>...</td>\n",
       "      <td>NaN</td>\n",
       "      <td>NaN</td>\n",
       "      <td>NaN</td>\n",
       "      <td>NaN</td>\n",
       "      <td>NaN</td>\n",
       "      <td>NaN</td>\n",
       "      <td>0.015719</td>\n",
       "      <td>0.015719</td>\n",
       "      <td>NaN</td>\n",
       "      <td>tonnes/annum</td>\n",
       "    </tr>\n",
       "    <tr>\n",
       "      <th>2</th>\n",
       "      <td>2030</td>\n",
       "      <td>3</td>\n",
       "      <td>5912</td>\n",
       "      <td>512500</td>\n",
       "      <td>203500</td>\n",
       "      <td>Non GLA</td>\n",
       "      <td>Non GLA</td>\n",
       "      <td>Domestic</td>\n",
       "      <td>Biomass</td>\n",
       "      <td>Wood Burning</td>\n",
       "      <td>...</td>\n",
       "      <td>NaN</td>\n",
       "      <td>NaN</td>\n",
       "      <td>NaN</td>\n",
       "      <td>NaN</td>\n",
       "      <td>NaN</td>\n",
       "      <td>NaN</td>\n",
       "      <td>0.019878</td>\n",
       "      <td>0.019878</td>\n",
       "      <td>NaN</td>\n",
       "      <td>tonnes/annum</td>\n",
       "    </tr>\n",
       "    <tr>\n",
       "      <th>3</th>\n",
       "      <td>2030</td>\n",
       "      <td>4</td>\n",
       "      <td>5915</td>\n",
       "      <td>515500</td>\n",
       "      <td>203500</td>\n",
       "      <td>Non GLA</td>\n",
       "      <td>Non GLA</td>\n",
       "      <td>Domestic</td>\n",
       "      <td>Biomass</td>\n",
       "      <td>Wood Burning</td>\n",
       "      <td>...</td>\n",
       "      <td>NaN</td>\n",
       "      <td>NaN</td>\n",
       "      <td>NaN</td>\n",
       "      <td>NaN</td>\n",
       "      <td>NaN</td>\n",
       "      <td>NaN</td>\n",
       "      <td>0.020946</td>\n",
       "      <td>0.020946</td>\n",
       "      <td>NaN</td>\n",
       "      <td>tonnes/annum</td>\n",
       "    </tr>\n",
       "    <tr>\n",
       "      <th>4</th>\n",
       "      <td>2030</td>\n",
       "      <td>5</td>\n",
       "      <td>5916</td>\n",
       "      <td>516500</td>\n",
       "      <td>203500</td>\n",
       "      <td>Non GLA</td>\n",
       "      <td>Non GLA</td>\n",
       "      <td>Domestic</td>\n",
       "      <td>Biomass</td>\n",
       "      <td>Wood Burning</td>\n",
       "      <td>...</td>\n",
       "      <td>NaN</td>\n",
       "      <td>NaN</td>\n",
       "      <td>NaN</td>\n",
       "      <td>NaN</td>\n",
       "      <td>NaN</td>\n",
       "      <td>NaN</td>\n",
       "      <td>0.020105</td>\n",
       "      <td>0.020105</td>\n",
       "      <td>NaN</td>\n",
       "      <td>tonnes/annum</td>\n",
       "    </tr>\n",
       "  </tbody>\n",
       "</table>\n",
       "<p>5 rows × 30 columns</p>\n",
       "</div>"
      ],
      "text/plain": [
       "   Year  Grid ID 2019  LAEI 1km2 ID  Easting  Northing  Borough     Zone  \\\n",
       "0  2030             1          5910   510500    203500  Non GLA  Non GLA   \n",
       "1  2030             2          5911   511500    203500  Non GLA  Non GLA   \n",
       "2  2030             3          5912   512500    203500  Non GLA  Non GLA   \n",
       "3  2030             4          5915   515500    203500  Non GLA  Non GLA   \n",
       "4  2030             5          5916   516500    203500  Non GLA  Non GLA   \n",
       "\n",
       "  Main Source Category   Sector        Source  ...  n2o  nh3  nmvoc  nox  pb  \\\n",
       "0             Domestic  Biomass  Wood Burning  ...  NaN  NaN    NaN  NaN NaN   \n",
       "1             Domestic  Biomass  Wood Burning  ...  NaN  NaN    NaN  NaN NaN   \n",
       "2             Domestic  Biomass  Wood Burning  ...  NaN  NaN    NaN  NaN NaN   \n",
       "3             Domestic  Biomass  Wood Burning  ...  NaN  NaN    NaN  NaN NaN   \n",
       "4             Domestic  Biomass  Wood Burning  ...  NaN  NaN    NaN  NaN NaN   \n",
       "\n",
       "   pcb      pm10     pm2.5  so2  Emissions Unit  \n",
       "0  NaN  0.019183  0.019183  NaN    tonnes/annum  \n",
       "1  NaN  0.015719  0.015719  NaN    tonnes/annum  \n",
       "2  NaN  0.019878  0.019878  NaN    tonnes/annum  \n",
       "3  NaN  0.020946  0.020946  NaN    tonnes/annum  \n",
       "4  NaN  0.020105  0.020105  NaN    tonnes/annum  \n",
       "\n",
       "[5 rows x 30 columns]"
      ]
     },
     "execution_count": 86,
     "metadata": {},
     "output_type": "execute_result"
    }
   ],
   "source": [
    "grid_df.head()"
   ]
  },
  {
   "cell_type": "markdown",
   "id": "2b68e306-3689-4c1e-9cb5-80f1de664abe",
   "metadata": {},
   "source": [
    "### Cleanup the grid data, filtering by interesting columns and the year 2019. Coordinates are Easting/Northing here."
   ]
  },
  {
   "cell_type": "code",
   "execution_count": 88,
   "id": "902a4ee0-33ed-41b7-afd4-5d79d42be306",
   "metadata": {
    "tags": []
   },
   "outputs": [
    {
     "name": "stdout",
     "output_type": "stream",
     "text": [
      "<class 'pandas.core.frame.DataFrame'>\n",
      "Int64Index: 143976 entries, 285264 to 429239\n",
      "Data columns (total 5 columns):\n",
      " #   Column    Non-Null Count   Dtype  \n",
      "---  ------    --------------   -----  \n",
      " 0   Easting   143976 non-null  int64  \n",
      " 1   Northing  143976 non-null  int64  \n",
      " 2   Sector    143976 non-null  object \n",
      " 3   nox       123216 non-null  float64\n",
      " 4   pm2.5     140516 non-null  float64\n",
      "dtypes: float64(2), int64(2), object(1)\n",
      "memory usage: 6.6+ MB\n"
     ]
    }
   ],
   "source": [
    "YEAR=2019\n",
    "GRID_INTERESTING_COLUMNS = [\"Easting\", \"Northing\", \"Sector\", \"nox\", \"pm2.5\"]\n",
    "grid_df_2019 = grid_df[grid_df['Year'] == YEAR]\n",
    "grid_df_2019 = grid_df_2019[GRID_INTERESTING_COLUMNS]\n",
    "\n",
    "del grid_df, GRID_INTERESTING_COLUMNS\n",
    "grid_df_2019.info()"
   ]
  },
  {
   "cell_type": "markdown",
   "id": "50fc5283-219f-45e6-a902-4589fd560bd2",
   "metadata": {},
   "source": [
    "## Remove any easting/northing that isnt uniquely due to road transport"
   ]
  },
  {
   "cell_type": "markdown",
   "id": "7d1567c9-8ac7-483c-a2f3-2415fdc69b76",
   "metadata": {},
   "source": [
    "### Combine easting/northing into single column to make filtering easier"
   ]
  },
  {
   "cell_type": "code",
   "execution_count": 91,
   "id": "b49df533-e454-405a-9ac9-882e624ee6e9",
   "metadata": {
    "tags": []
   },
   "outputs": [],
   "source": [
    "grid_df_2019['CombinedEastNorth'] = grid_df_2019['Easting'].astype(str) + grid_df_2019['Northing'].astype(str)\n",
    "grid_df_2019.drop(columns=[\"Easting\", \"Northing\"], axis=1, inplace=True)"
   ]
  },
  {
   "cell_type": "code",
   "execution_count": 92,
   "id": "0dc276d3-16d8-49d5-9260-ecd033136284",
   "metadata": {
    "tags": []
   },
   "outputs": [
    {
     "data": {
      "text/html": [
       "<div>\n",
       "<style scoped>\n",
       "    .dataframe tbody tr th:only-of-type {\n",
       "        vertical-align: middle;\n",
       "    }\n",
       "\n",
       "    .dataframe tbody tr th {\n",
       "        vertical-align: top;\n",
       "    }\n",
       "\n",
       "    .dataframe thead th {\n",
       "        text-align: right;\n",
       "    }\n",
       "</style>\n",
       "<table border=\"1\" class=\"dataframe\">\n",
       "  <thead>\n",
       "    <tr style=\"text-align: right;\">\n",
       "      <th></th>\n",
       "      <th>Sector</th>\n",
       "      <th>nox</th>\n",
       "      <th>pm2.5</th>\n",
       "      <th>CombinedEastNorth</th>\n",
       "    </tr>\n",
       "  </thead>\n",
       "  <tbody>\n",
       "    <tr>\n",
       "      <th>285264</th>\n",
       "      <td>Biomass</td>\n",
       "      <td>NaN</td>\n",
       "      <td>0.021923</td>\n",
       "      <td>510500203500</td>\n",
       "    </tr>\n",
       "    <tr>\n",
       "      <th>285265</th>\n",
       "      <td>Biomass</td>\n",
       "      <td>NaN</td>\n",
       "      <td>0.017965</td>\n",
       "      <td>511500203500</td>\n",
       "    </tr>\n",
       "    <tr>\n",
       "      <th>285266</th>\n",
       "      <td>Biomass</td>\n",
       "      <td>NaN</td>\n",
       "      <td>0.022718</td>\n",
       "      <td>512500203500</td>\n",
       "    </tr>\n",
       "    <tr>\n",
       "      <th>285267</th>\n",
       "      <td>Biomass</td>\n",
       "      <td>NaN</td>\n",
       "      <td>0.023939</td>\n",
       "      <td>515500203500</td>\n",
       "    </tr>\n",
       "    <tr>\n",
       "      <th>285268</th>\n",
       "      <td>Biomass</td>\n",
       "      <td>NaN</td>\n",
       "      <td>0.022977</td>\n",
       "      <td>516500203500</td>\n",
       "    </tr>\n",
       "  </tbody>\n",
       "</table>\n",
       "</div>"
      ],
      "text/plain": [
       "         Sector  nox     pm2.5 CombinedEastNorth\n",
       "285264  Biomass  NaN  0.021923      510500203500\n",
       "285265  Biomass  NaN  0.017965      511500203500\n",
       "285266  Biomass  NaN  0.022718      512500203500\n",
       "285267  Biomass  NaN  0.023939      515500203500\n",
       "285268  Biomass  NaN  0.022977      516500203500"
      ]
     },
     "execution_count": 92,
     "metadata": {},
     "output_type": "execute_result"
    }
   ],
   "source": [
    "grid_df_2019.head()"
   ]
  },
  {
   "cell_type": "code",
   "execution_count": 93,
   "id": "27664f41-1c20-4e72-a614-8fa62478870b",
   "metadata": {
    "tags": []
   },
   "outputs": [
    {
     "data": {
      "text/plain": [
       "533500182500    252\n",
       "533500180500    252\n",
       "532500182500    210\n",
       "533500181500    210\n",
       "533500171500    168\n",
       "               ... \n",
       "531500158500     42\n",
       "507500169500     34\n",
       "503500173500     34\n",
       "509500159500     34\n",
       "506500175500     34\n",
       "Name: CombinedEastNorth, Length: 2466, dtype: int64"
      ]
     },
     "execution_count": 93,
     "metadata": {},
     "output_type": "execute_result"
    }
   ],
   "source": [
    "grid_df_2019[\"CombinedEastNorth\"].value_counts()"
   ]
  },
  {
   "cell_type": "markdown",
   "id": "5ae017ac-f4e5-4853-9851-ea71c3e6e64e",
   "metadata": {},
   "source": [
    "As no CombinedEastNorth is unique, we cannot look for one that only has emissions from Road Transport, it is necessary to group by combined coordinate, and sum each pollutant into a new DataFrame. The amount that is contributed by Road Transport is then recorded as a percentage. So we get Percentage of emission in a coordinate that is due to Road Transport for each gas."
   ]
  },
  {
   "cell_type": "code",
   "execution_count": 95,
   "id": "b631241a-8226-4206-aa8a-3f85579c6edf",
   "metadata": {
    "tags": []
   },
   "outputs": [],
   "source": [
    "nox_grouped_df = grid_df_2019.groupby(['CombinedEastNorth', 'Sector'])['nox'].sum().reset_index()\n",
    "total_nox_by_east_north = grid_df_2019.groupby('CombinedEastNorth')['nox'].sum()\n",
    "nox_grouped_df['percentage_of_total_nox'] = nox_grouped_df.apply(\n",
    "    lambda row: (row['nox'] / total_nox_by_east_north[row['CombinedEastNorth']]) * 100, axis=1\n",
    ")\n",
    "\n",
    "\n",
    "pm25_grouped_df = grid_df_2019.groupby(['CombinedEastNorth', 'Sector'])['pm2.5'].sum().reset_index()\n",
    "total_pm25_by_east_north = grid_df_2019.groupby('CombinedEastNorth')['pm2.5'].sum()\n",
    "pm25_grouped_df['percentage_of_total_pm25'] = pm25_grouped_df.apply(\n",
    "    lambda row: (row['pm2.5'] / total_pm25_by_east_north[row['CombinedEastNorth']]) * 100, axis=1\n",
    ")\n",
    "\n"
   ]
  },
  {
   "cell_type": "code",
   "execution_count": 96,
   "id": "ea253a32-2021-4a6a-b4cd-d720d18290d3",
   "metadata": {
    "tags": []
   },
   "outputs": [],
   "source": [
    "nox_cleaned = nox_grouped_df[nox_grouped_df['percentage_of_total_nox'] != 0.0]\n",
    "pm25_cleaned = pm25_grouped_df[pm25_grouped_df['percentage_of_total_pm25'] != 0.0]\n",
    "nox_cleaned = nox_cleaned[nox_cleaned['Sector'] == \"Road Transport\"]\n",
    "pm25_cleaned = pm25_cleaned[pm25_cleaned['Sector'] == \"Road Transport\"]\n",
    "\n",
    "del nox_grouped_df, pm25_grouped_df, grid_df_2019"
   ]
  },
  {
   "cell_type": "markdown",
   "id": "f9c79f07-e533-4a2b-81c4-71071b119166",
   "metadata": {},
   "source": [
    "Sector is now the same for all entries so drop it"
   ]
  },
  {
   "cell_type": "code",
   "execution_count": 98,
   "id": "2bcf8e31-c315-4a8a-950c-612c7452f50a",
   "metadata": {
    "tags": []
   },
   "outputs": [],
   "source": [
    "nox_cleaned.drop(columns=[\"Sector\"], axis=1, inplace=True)\n",
    "pm25_cleaned.drop(columns=[\"Sector\"], axis=1, inplace=True)"
   ]
  },
  {
   "cell_type": "markdown",
   "id": "6ebc5c3e-911d-40bb-b4be-a89867c9acf4",
   "metadata": {},
   "source": [
    "Merge the two dataframes together"
   ]
  },
  {
   "cell_type": "code",
   "execution_count": 100,
   "id": "ea84173d-c8dd-4fee-8db9-39f2e5831030",
   "metadata": {
    "tags": []
   },
   "outputs": [],
   "source": [
    "combined_cleaned_df = pd.merge(nox_cleaned, pm25_cleaned, on='CombinedEastNorth', how='outer')"
   ]
  },
  {
   "cell_type": "markdown",
   "id": "bb44b30d-04a8-4cc5-94f6-a0ea71a358c1",
   "metadata": {},
   "source": [
    "### Add the pollution concentrations from the other datasources. Coordinates are X/Y here. Again combining coordinates makes filtering easier."
   ]
  },
  {
   "cell_type": "code",
   "execution_count": 102,
   "id": "e3d16be8-433f-417c-905d-67a42e66d87d",
   "metadata": {},
   "outputs": [],
   "source": [
    "pm25_concentration['CombinedXY'] = pm25_concentration['x'].astype(str) + pm25_concentration['y'].astype(str)\n",
    "pm25_concentration.drop(columns=[\"x\", \"y\"], axis=1, inplace=True)\n",
    "nox_concentration['CombinedXY'] = nox_concentration['x'].astype(str) + nox_concentration['y'].astype(str)\n",
    "nox_concentration.drop(columns=[\"x\", \"y\"], axis=1, inplace=True)"
   ]
  },
  {
   "cell_type": "markdown",
   "id": "6eda9ed9-9e62-4fb8-848a-08924619836a",
   "metadata": {},
   "source": [
    "Group the pollutants by Coordinate, summing all entries"
   ]
  },
  {
   "cell_type": "code",
   "execution_count": 104,
   "id": "dee75fb4-9b88-44c9-a7fa-1b30e77754b0",
   "metadata": {
    "tags": []
   },
   "outputs": [],
   "source": [
    "nox_concentration = nox_concentration.groupby('CombinedXY')['conc'].sum()\n",
    "pm25_concentration = pm25_concentration.groupby('CombinedXY')['conc'].sum()"
   ]
  },
  {
   "cell_type": "markdown",
   "id": "ff7a7adc-23db-453e-a1b5-2d29558d3464",
   "metadata": {},
   "source": [
    "Add the pollutants to combined DataFrame, mapped by CombinedEastNorth, which matches CombinedXY in this data"
   ]
  },
  {
   "cell_type": "code",
   "execution_count": 106,
   "id": "fe85d111-29b1-4b96-81cd-a93dee11bf3b",
   "metadata": {
    "tags": []
   },
   "outputs": [],
   "source": [
    "combined_cleaned_df['nox_concentration'] = combined_cleaned_df['CombinedEastNorth'].map(nox_concentration)\n",
    "combined_cleaned_df['pm25_concentration'] = combined_cleaned_df['CombinedEastNorth'].map(pm25_concentration)\n",
    "combined_cleaned_df.dropna(inplace=True)"
   ]
  },
  {
   "cell_type": "markdown",
   "id": "b106ccdf-9ff5-4d36-8cdb-e5d4f1dea34e",
   "metadata": {},
   "source": [
    "Work out the concentration attributable to road traffic, using percentages"
   ]
  },
  {
   "cell_type": "code",
   "execution_count": 108,
   "id": "d5fc9822-0c22-429d-8ba1-9fa351cfcbe9",
   "metadata": {
    "tags": []
   },
   "outputs": [],
   "source": [
    "combined_cleaned_df['road_emission_caused_concentration_nox'] = combined_cleaned_df.apply(\n",
    "    lambda row: (row['percentage_of_total_nox'] / 100) * row['nox_concentration'], axis=1\n",
    ")\n",
    "\n",
    "combined_cleaned_df['road_emission_caused_concentration_pm25'] = combined_cleaned_df.apply(\n",
    "    lambda row: (row['percentage_of_total_pm25'] / 100) * row['pm25_concentration'], axis=1\n",
    ")"
   ]
  },
  {
   "cell_type": "markdown",
   "id": "d7956618-a992-4a69-a65e-dc09821e0083",
   "metadata": {},
   "source": [
    "Drop unnecessary columns"
   ]
  },
  {
   "cell_type": "code",
   "execution_count": 110,
   "id": "b6a433d8-f684-48fb-9412-e2daf95db59a",
   "metadata": {
    "tags": []
   },
   "outputs": [],
   "source": [
    "combined_cleaned_df.drop(columns=[\"CombinedEastNorth\",\"percentage_of_total_nox\",\"percentage_of_total_pm25\",\"nox_concentration\",\"pm25_concentration\"], axis=1, inplace=True)"
   ]
  },
  {
   "cell_type": "code",
   "execution_count": 111,
   "id": "6f2f61a8-ec1d-44b8-8b16-0c54e3c29ab2",
   "metadata": {
    "tags": []
   },
   "outputs": [
    {
     "name": "stdout",
     "output_type": "stream",
     "text": [
      "<class 'pandas.core.frame.DataFrame'>\n",
      "Int64Index: 2338 entries, 3 to 2464\n",
      "Data columns (total 4 columns):\n",
      " #   Column                                   Non-Null Count  Dtype  \n",
      "---  ------                                   --------------  -----  \n",
      " 0   nox                                      2338 non-null   float64\n",
      " 1   pm2.5                                    2338 non-null   float64\n",
      " 2   road_emission_caused_concentration_nox   2338 non-null   float64\n",
      " 3   road_emission_caused_concentration_pm25  2338 non-null   float64\n",
      "dtypes: float64(4)\n",
      "memory usage: 91.3 KB\n"
     ]
    }
   ],
   "source": [
    "combined_cleaned_df.info()"
   ]
  },
  {
   "cell_type": "markdown",
   "id": "feaa6b65-dd99-45e8-bfb8-bcbcbcae6647",
   "metadata": {},
   "source": [
    "### Create Linear Models so that we can predict a concentration of pollutant based on emission\n",
    "nox model"
   ]
  },
  {
   "cell_type": "code",
   "execution_count": 244,
   "id": "b640a721-e72b-4cff-9929-06410faf010b",
   "metadata": {
    "tags": []
   },
   "outputs": [],
   "source": [
    "NOX_Emissions = combined_cleaned_df[\"nox\"].values.reshape(-1, 1)\n",
    "NOX_Concentration = combined_cleaned_df[\"road_emission_caused_concentration_nox\"]\n",
    "\n",
    "NOX_EM_train, NOX_EM_test, NOX_CONC_train, NOX_CONC_test = train_test_split(NOX_Emissions, NOX_Concentration, test_size=0.2, random_state=42)\n",
    "\n",
    "nox_emission_conc_model = make_pipeline(StandardScaler(), LinearRegression())\n",
    "nox_emission_conc_model.fit(NOX_EM_train, NOX_CONC_train)\n",
    "NOX_CONC_pred = nox_emission_conc_model.predict(NOX_EM_test)\n",
    "combined_cleaned_df['Predicted_Nox_Concentration'] = nox_emission_conc_model.predict(NOX_Emissions)"
   ]
  },
  {
   "cell_type": "code",
   "execution_count": 246,
   "id": "cb24e7cf-eb9b-4f2b-8436-87cf8af02cce",
   "metadata": {
    "tags": []
   },
   "outputs": [
    {
     "data": {
      "image/png": "[encoded data removed]",
      "text/plain": [
       "<Figure size 640x480 with 1 Axes>"
      ]
     },
     "metadata": {},
     "output_type": "display_data"
    }
   ],
   "source": [
    "%matplotlib inline\n",
    "plt.xlabel(\"nox_emissions\")\n",
    "plt.ylabel(\"road_caused_nox_concentration\")\n",
    "plt.scatter(combined_cleaned_df.nox, combined_cleaned_df[\"road_emission_caused_concentration_nox\"], color=\"blue\")\n",
    "plt.plot(combined_cleaned_df['nox'], combined_cleaned_df['Predicted_Nox_Concentration'], color='red', label='Regression line')\n",
    "plt.show()"
   ]
  },
  {
   "cell_type": "code",
   "execution_count": 248,
   "id": "5b94d296-7b4b-4130-9e4d-d57d01c90c52",
   "metadata": {},
   "outputs": [
    {
     "name": "stdout",
     "output_type": "stream",
     "text": [
      "Linear Regression NOX Performance:\n",
      " MAE: 5.314213052098309\n",
      " MSE: 130.59000573804175\n",
      " R²: 0.3998282591391771\n"
     ]
    }
   ],
   "source": [
    "NOX_CONC_MAE = mean_absolute_error(NOX_CONC_test, NOX_CONC_pred)\n",
    "NOX_CONC_MSE = mean_squared_error(NOX_CONC_test, NOX_CONC_pred)\n",
    "NOX_CONC_R2 = r2_score(NOX_CONC_test, NOX_CONC_pred)\n",
    "print(f\"Linear Regression NOX Performance:\\n MAE: {NOX_CONC_MAE}\\n MSE: {NOX_CONC_MSE}\\n R²: {NOX_CONC_R2}\")"
   ]
  },
  {
   "cell_type": "markdown",
   "id": "265b3c2c-232c-46bf-8bb9-42f4e49b2446",
   "metadata": {},
   "source": [
    "pm25 model"
   ]
  },
  {
   "cell_type": "code",
   "execution_count": 250,
   "id": "2dbf7734-81a1-4c68-8a3f-a71e888fc975",
   "metadata": {
    "tags": []
   },
   "outputs": [],
   "source": [
    "PM25_Emissions = combined_cleaned_df[\"pm2.5\"].values.reshape(-1, 1)\n",
    "PM25_Concentration = combined_cleaned_df[\"road_emission_caused_concentration_pm25\"]\n",
    "\n",
    "PM_EM_train, PM_EM_test, PM_CONC_train, PM_CONC_test = train_test_split(PM25_Emissions, PM25_Concentration, test_size=0.2, random_state=42)\n",
    "pm25_emission_conc_model = make_pipeline(StandardScaler(), LinearRegression())\n",
    "pm25_emission_conc_model.fit(PM_EM_train ,PM_CONC_train)\n",
    "PM25_CONC_pred = pm25_emission_conc_model.predict(PM_EM_test)\n",
    "combined_cleaned_df['Predicted_pm25_Concentration'] = pm25_emission_conc_model.predict(PM25_Emissions)"
   ]
  },
  {
   "cell_type": "code",
   "execution_count": 252,
   "id": "e48f7d83-4864-4ffd-bf7f-21e24ba7995a",
   "metadata": {
    "tags": []
   },
   "outputs": [
    {
     "data": {
      "image/png": "[encoded data removed]",
      "text/plain": [
       "<Figure size 640x480 with 1 Axes>"
      ]
     },
     "metadata": {},
     "output_type": "display_data"
    }
   ],
   "source": [
    "%matplotlib inline\n",
    "plt.xlabel(\"pm25_emissions\")\n",
    "plt.ylabel(\"road_caused_pm25_concentration\")\n",
    "plt.scatter(combined_cleaned_df['pm2.5'], combined_cleaned_df[\"road_emission_caused_concentration_pm25\"], color=\"blue\")\n",
    "plt.plot(combined_cleaned_df['pm2.5'], combined_cleaned_df['Predicted_pm25_Concentration'], color='red', label='Regression line')\n",
    "plt.show()"
   ]
  },
  {
   "cell_type": "code",
   "execution_count": 119,
   "id": "242c3939-6207-4949-8b36-96945bfe3927",
   "metadata": {},
   "outputs": [
    {
     "name": "stdout",
     "output_type": "stream",
     "text": [
      "Linear Regression PM25 Performance:\n",
      " MAE: 1.2865125715520507\n",
      " MSE: 2.6112027727983826\n",
      " R²: 0.2875595494059391\n"
     ]
    }
   ],
   "source": [
    "PM25_CONC_MAE = mean_absolute_error(PM_CONC_test, PM25_CONC_pred)\n",
    "PM25_CONC_MSE = mean_squared_error(PM_CONC_test, PM25_CONC_pred)\n",
    "PM25_CONC_R2 = r2_score(PM_CONC_test, PM25_CONC_pred)\n",
    "print(f\"Linear Regression PM25 Performance:\\n MAE: {PM25_CONC_MAE}\\n MSE: {PM25_CONC_MSE}\\n R²: {PM25_CONC_R2}\")"
   ]
  },
  {
   "cell_type": "markdown",
   "id": "5df9a1e5-23f1-4ab7-b5ca-0f0837858f47",
   "metadata": {},
   "source": [
    "---\n",
    "# Part Three: Combine the parts, Part One resulted in a DataFrame of Source and Emission by TOID. Part Two resulted in models allowing translation of Emission into Pollutant. So here we run Emissions from Part One through the models created in Part Two"
   ]
  },
  {
   "cell_type": "markdown",
   "id": "3a2ac901-a1a9-44ef-8a21-6c4fac532a42",
   "metadata": {},
   "source": [
    "Create a new DataFrame which contains pertinents fields from summary_df"
   ]
  },
  {
   "cell_type": "code",
   "execution_count": 122,
   "id": "93500cbe-f3de-4cb2-a27d-b1b26553c733",
   "metadata": {
    "tags": []
   },
   "outputs": [],
   "source": [
    "total_list = [\"NOX_Total\",\"PM25_Total\"]\n",
    "total_list.extend(TOP_IMPORTANCE)\n",
    "final_df = summary_df[total_list].copy()"
   ]
  },
  {
   "cell_type": "markdown",
   "id": "13e34909-d14b-4dcc-aebc-6671dbc5ff1c",
   "metadata": {},
   "source": [
    "Predict the concentration based on emissions by TOID"
   ]
  },
  {
   "cell_type": "code",
   "execution_count": 124,
   "id": "b609813d-4e87-495d-baca-40093cd756a2",
   "metadata": {
    "tags": []
   },
   "outputs": [
    {
     "name": "stderr",
     "output_type": "stream",
     "text": [
      "/home/pete/anaconda3/lib/python3.10/site-packages/sklearn/base.py:486: UserWarning: X has feature names, but LinearRegression was fitted without feature names\n",
      "  warnings.warn(\n",
      "/home/pete/anaconda3/lib/python3.10/site-packages/sklearn/base.py:486: UserWarning: X has feature names, but LinearRegression was fitted without feature names\n",
      "  warnings.warn(\n"
     ]
    }
   ],
   "source": [
    "final_df['Predicted_Nox_Concentration'] = nox_emission_conc_model.predict(final_df[['NOX_Total']])\n",
    "final_df['Predicted_Pm25_Concentration'] = nox_emission_conc_model.predict(final_df[['PM25_Total']])"
   ]
  },
  {
   "cell_type": "markdown",
   "id": "bad430f8-e951-4878-9ddf-41a60ccb5f5d",
   "metadata": {},
   "source": [
    "Clean up"
   ]
  },
  {
   "cell_type": "code",
   "execution_count": 126,
   "id": "1a87ee4b-65ff-45f8-b8f5-132f02755573",
   "metadata": {
    "tags": []
   },
   "outputs": [],
   "source": [
    "final_df.drop(columns=[\"NOX_Total\",\"PM25_Total\"], axis=1, inplace=True)"
   ]
  },
  {
   "cell_type": "markdown",
   "id": "94a23a31-85e1-4e06-a5f2-f86aa21ed288",
   "metadata": {},
   "source": [
    "Would ideally have correct limits here, but the lowest for both concentrations is 10.58, and if there is only one value in a DataSet LogisticRegression wont work. So raise LIMITS to allow some values to be false."
   ]
  },
  {
   "cell_type": "code",
   "execution_count": 128,
   "id": "3b849df6-1308-44ae-b2b9-83528fe21203",
   "metadata": {
    "tags": []
   },
   "outputs": [],
   "source": [
    "LIMIT_NOX=10.7 #Should be 10.0\n",
    "LIMIT_PM25=10.7 # Should be 5.0\n",
    "final_df['Predicted_Pm25_Conc_Above_Limit'] = final_df['Predicted_Pm25_Concentration'] > LIMIT_PM25\n",
    "final_df['Predicted_Nox_Conc_Above_Limit'] = final_df['Predicted_Nox_Concentration'] > LIMIT_NOX\n"
   ]
  },
  {
   "cell_type": "code",
   "execution_count": 129,
   "id": "63a13490-d97d-4ba7-86a5-74ffcb689345",
   "metadata": {
    "tags": []
   },
   "outputs": [
    {
     "data": {
      "text/html": [
       "<div>\n",
       "<style scoped>\n",
       "    .dataframe tbody tr th:only-of-type {\n",
       "        vertical-align: middle;\n",
       "    }\n",
       "\n",
       "    .dataframe tbody tr th {\n",
       "        vertical-align: top;\n",
       "    }\n",
       "\n",
       "    .dataframe thead th {\n",
       "        text-align: right;\n",
       "    }\n",
       "</style>\n",
       "<table border=\"1\" class=\"dataframe\">\n",
       "  <thead>\n",
       "    <tr style=\"text-align: right;\">\n",
       "      <th></th>\n",
       "      <th>VKM_Diesel_LGV</th>\n",
       "      <th>VKM_Diesel_Car</th>\n",
       "      <th>VKM_Petrol_Car</th>\n",
       "      <th>VKM_Electric_Car</th>\n",
       "      <th>Predicted_Nox_Concentration</th>\n",
       "      <th>Predicted_Pm25_Concentration</th>\n",
       "    </tr>\n",
       "  </thead>\n",
       "  <tbody>\n",
       "    <tr>\n",
       "      <th>count</th>\n",
       "      <td>4.502700e+04</td>\n",
       "      <td>4.502700e+04</td>\n",
       "      <td>4.502700e+04</td>\n",
       "      <td>45027.000000</td>\n",
       "      <td>45027.000000</td>\n",
       "      <td>45027.000000</td>\n",
       "    </tr>\n",
       "    <tr>\n",
       "      <th>mean</th>\n",
       "      <td>5.357480e+04</td>\n",
       "      <td>1.115234e+05</td>\n",
       "      <td>1.591121e+05</td>\n",
       "      <td>1129.884314</td>\n",
       "      <td>11.060644</td>\n",
       "      <td>10.618359</td>\n",
       "    </tr>\n",
       "    <tr>\n",
       "      <th>std</th>\n",
       "      <td>1.331754e+05</td>\n",
       "      <td>2.426383e+05</td>\n",
       "      <td>3.479764e+05</td>\n",
       "      <td>2405.209402</td>\n",
       "      <td>0.815399</td>\n",
       "      <td>0.018809</td>\n",
       "    </tr>\n",
       "    <tr>\n",
       "      <th>min</th>\n",
       "      <td>1.700000e+01</td>\n",
       "      <td>1.400000e+02</td>\n",
       "      <td>1.930000e+02</td>\n",
       "      <td>2.000000</td>\n",
       "      <td>10.609625</td>\n",
       "      <td>10.608189</td>\n",
       "    </tr>\n",
       "    <tr>\n",
       "      <th>25%</th>\n",
       "      <td>9.605000e+03</td>\n",
       "      <td>2.071800e+04</td>\n",
       "      <td>2.918450e+04</td>\n",
       "      <td>221.000000</td>\n",
       "      <td>10.710710</td>\n",
       "      <td>10.610374</td>\n",
       "    </tr>\n",
       "    <tr>\n",
       "      <th>50%</th>\n",
       "      <td>2.339100e+04</td>\n",
       "      <td>5.075900e+04</td>\n",
       "      <td>7.182400e+04</td>\n",
       "      <td>534.000000</td>\n",
       "      <td>10.844523</td>\n",
       "      <td>10.613310</td>\n",
       "    </tr>\n",
       "    <tr>\n",
       "      <th>75%</th>\n",
       "      <td>5.418500e+04</td>\n",
       "      <td>1.178220e+05</td>\n",
       "      <td>1.671525e+05</td>\n",
       "      <td>1220.000000</td>\n",
       "      <td>11.120137</td>\n",
       "      <td>10.619684</td>\n",
       "    </tr>\n",
       "    <tr>\n",
       "      <th>max</th>\n",
       "      <td>5.448759e+06</td>\n",
       "      <td>8.911726e+06</td>\n",
       "      <td>1.289498e+07</td>\n",
       "      <td>76361.000000</td>\n",
       "      <td>37.650544</td>\n",
       "      <td>11.304653</td>\n",
       "    </tr>\n",
       "  </tbody>\n",
       "</table>\n",
       "</div>"
      ],
      "text/plain": [
       "       VKM_Diesel_LGV  VKM_Diesel_Car  VKM_Petrol_Car  VKM_Electric_Car  \\\n",
       "count    4.502700e+04    4.502700e+04    4.502700e+04      45027.000000   \n",
       "mean     5.357480e+04    1.115234e+05    1.591121e+05       1129.884314   \n",
       "std      1.331754e+05    2.426383e+05    3.479764e+05       2405.209402   \n",
       "min      1.700000e+01    1.400000e+02    1.930000e+02          2.000000   \n",
       "25%      9.605000e+03    2.071800e+04    2.918450e+04        221.000000   \n",
       "50%      2.339100e+04    5.075900e+04    7.182400e+04        534.000000   \n",
       "75%      5.418500e+04    1.178220e+05    1.671525e+05       1220.000000   \n",
       "max      5.448759e+06    8.911726e+06    1.289498e+07      76361.000000   \n",
       "\n",
       "       Predicted_Nox_Concentration  Predicted_Pm25_Concentration  \n",
       "count                 45027.000000                  45027.000000  \n",
       "mean                     11.060644                     10.618359  \n",
       "std                       0.815399                      0.018809  \n",
       "min                      10.609625                     10.608189  \n",
       "25%                      10.710710                     10.610374  \n",
       "50%                      10.844523                     10.613310  \n",
       "75%                      11.120137                     10.619684  \n",
       "max                      37.650544                     11.304653  "
      ]
     },
     "execution_count": 129,
     "metadata": {},
     "output_type": "execute_result"
    }
   ],
   "source": [
    "final_df.describe()"
   ]
  },
  {
   "cell_type": "code",
   "execution_count": 130,
   "id": "b565a13e-cf92-4c1d-93de-be937565e517",
   "metadata": {
    "tags": []
   },
   "outputs": [
    {
     "data": {
      "text/plain": [
       "10.609625114240831"
      ]
     },
     "execution_count": 130,
     "metadata": {},
     "output_type": "execute_result"
    }
   ],
   "source": [
    "final_df[\"Predicted_Nox_Concentration\"].min()"
   ]
  },
  {
   "cell_type": "markdown",
   "id": "b1208eee-75fc-4c02-afa3-7f93a57cab67",
   "metadata": {
    "tags": []
   },
   "source": [
    "# Create Logistic Regression models to predict, based on the VKM of four key classes of vehicle, whether the TOID will be below or above the threshold set here. Which is higher than that set in WHO Air Quality Guideline"
   ]
  },
  {
   "cell_type": "code",
   "execution_count": 132,
   "id": "dfacc61a-e479-478a-9f83-24b21176d0fe",
   "metadata": {
    "tags": []
   },
   "outputs": [],
   "source": [
    "vkm_data = final_df[[\"VKM_Diesel_LGV\",\"VKM_Diesel_Car\",\"VKM_Petrol_Car\",\"VKM_Electric_Car\"]]\n",
    "nox_data = final_df[\"Predicted_Nox_Conc_Above_Limit\"]\n",
    "pm25_data = final_df[\"Predicted_Pm25_Conc_Above_Limit\"]"
   ]
  },
  {
   "cell_type": "markdown",
   "id": "be8ceb2c-fe40-4758-b14b-272e29213c1b",
   "metadata": {},
   "source": [
    "## Create model for NOX"
   ]
  },
  {
   "cell_type": "code",
   "execution_count": 260,
   "id": "ffd86a62-dde0-4577-b262-ecbfe5ead2df",
   "metadata": {},
   "outputs": [
    {
     "data": {
      "text/plain": [
       "0.9339329335998223"
      ]
     },
     "execution_count": 260,
     "metadata": {},
     "output_type": "execute_result"
    }
   ],
   "source": [
    "VKM_train, VKM_test, Nox_train, Nox_test = train_test_split(vkm_data,nox_data,test_size=0.2)\n",
    "nox_logistic_reg = make_pipeline(StandardScaler(), LogisticRegression(max_iter=200))\n",
    "\n",
    "nox_logistic_reg.fit(VKM_train, Nox_train)\n",
    "NOX_Predict = nox_logistic_reg.predict(VKM_test)\n",
    "nox_logistic_reg.score(VKM_test,Nox_test)"
   ]
  },
  {
   "cell_type": "code",
   "execution_count": 262,
   "id": "f7f41fb9-165d-4497-8092-bfa4624a8c35",
   "metadata": {},
   "outputs": [
    {
     "name": "stdout",
     "output_type": "stream",
     "text": [
      "LogisticRegression NOX Performance:\n",
      " Accuracy: 0.9339329335998223\n",
      " Precision: 0.9609487995371709\n",
      " Recall: 0.953364901707562\n",
      " F1 Score: 0.9571418281351293\n",
      " ROC-AUC: 0.9799909875088169\n"
     ]
    }
   ],
   "source": [
    "accuracy = accuracy_score(Nox_test, NOX_Predict)\n",
    "precision = precision_score(Nox_test, NOX_Predict)\n",
    "recall = recall_score(Nox_test, NOX_Predict)\n",
    "f1 = f1_score(Nox_test, NOX_Predict)\n",
    "roc_auc = roc_auc_score(Nox_test, nox_logistic_reg.predict_proba(VKM_test)[:, 1])\n",
    "print(f\"LogisticRegression NOX Performance:\\n Accuracy: {accuracy}\\n Precision: {precision}\\n Recall: {recall}\\n F1 Score: {f1}\\n ROC-AUC: {roc_auc}\")"
   ]
  },
  {
   "cell_type": "markdown",
   "id": "074c9034-ce0d-445b-bca5-7edc72410f52",
   "metadata": {},
   "source": [
    "## Create model for PM25"
   ]
  },
  {
   "cell_type": "code",
   "execution_count": 254,
   "id": "b162f754-3eff-42aa-bde1-1835b803cc44",
   "metadata": {
    "tags": []
   },
   "outputs": [
    {
     "data": {
      "text/plain": [
       "0.9976682211858761"
      ]
     },
     "execution_count": 254,
     "metadata": {},
     "output_type": "execute_result"
    }
   ],
   "source": [
    "VKM_train, VKM_test, Pm25_train, Pm25_test = train_test_split(vkm_data,pm25_data,test_size=0.2)\n",
    "pm25_logistic_reg = make_pipeline(StandardScaler(), LogisticRegression(max_iter=200))\n",
    "pm25_logistic_reg.fit(VKM_train, Pm25_train)\n",
    "PM25_Predict = pm25_logistic_reg.predict(VKM_test)\n",
    "pm25_logistic_reg.score(VKM_test,Pm25_test)"
   ]
  },
  {
   "cell_type": "code",
   "execution_count": 256,
   "id": "60d4a472-b1b1-4618-a83c-fc8536d43344",
   "metadata": {
    "tags": []
   },
   "outputs": [
    {
     "name": "stdout",
     "output_type": "stream",
     "text": [
      "LogisticRegression PM25 Performance:\n",
      " Accuracy: 0.9976682211858761\n",
      " Precision: 0.8382352941176471\n",
      " Recall: 0.8507462686567164\n",
      " F1 Score: 0.8444444444444444\n",
      " ROC-AUC: 0.9995625408030883\n"
     ]
    }
   ],
   "source": [
    "accuracy = accuracy_score(Pm25_test, PM25_Predict)\n",
    "precision = precision_score(Pm25_test, PM25_Predict)\n",
    "recall = recall_score(Pm25_test, PM25_Predict)\n",
    "f1 = f1_score(Pm25_test, PM25_Predict)\n",
    "roc_auc = roc_auc_score(Pm25_test, pm25_logistic_reg.predict_proba(VKM_test)[:, 1])\n",
    "print(f\"LogisticRegression PM25 Performance:\\n Accuracy: {accuracy}\\n Precision: {precision}\\n Recall: {recall}\\n F1 Score: {f1}\\n ROC-AUC: {roc_auc}\")\n"
   ]
  },
  {
   "cell_type": "markdown",
   "id": "32e3fa40-d883-42dd-9700-4e8da6786387",
   "metadata": {},
   "source": [
    "## Make predictions about whether given VKM results in being above or below the threshold concentration "
   ]
  },
  {
   "cell_type": "markdown",
   "id": "6a0157c8-e8fe-4702-98eb-573ab66a931c",
   "metadata": {},
   "source": [
    "NOx"
   ]
  },
  {
   "cell_type": "code",
   "execution_count": 142,
   "id": "ec2554a1-7502-4ef4-a6d8-7dc25a85d0cc",
   "metadata": {
    "tags": []
   },
   "outputs": [
    {
     "data": {
      "text/plain": [
       "array([ True])"
      ]
     },
     "execution_count": 142,
     "metadata": {},
     "output_type": "execute_result"
    }
   ],
   "source": [
    "get_prediction_df = pd.DataFrame({'VKM_Diesel_LGV':[1000000000], 'VKM_Diesel_Car':[100000000], 'VKM_Petrol_Car':[10000000], 'VKM_Electric_Car':[10000000]})\n",
    "nox_logistic_reg.predict(get_prediction_df)"
   ]
  },
  {
   "cell_type": "code",
   "execution_count": 143,
   "id": "0a67c0aa-5ee0-4cea-a197-098735cd478b",
   "metadata": {
    "tags": []
   },
   "outputs": [
    {
     "data": {
      "text/plain": [
       "array([False])"
      ]
     },
     "execution_count": 143,
     "metadata": {},
     "output_type": "execute_result"
    }
   ],
   "source": [
    "get_prediction_df = pd.DataFrame({'VKM_Diesel_LGV':[100], 'VKM_Diesel_Car':[100], 'VKM_Petrol_Car':[100], 'VKM_Electric_Car':[100]})\n",
    "nox_logistic_reg.predict(get_prediction_df)"
   ]
  },
  {
   "cell_type": "markdown",
   "id": "1e66cdfb-8b6d-4940-a083-ce60aacd8e33",
   "metadata": {},
   "source": [
    "Pm25"
   ]
  },
  {
   "cell_type": "code",
   "execution_count": 145,
   "id": "281f63cc-1123-4675-b141-d542d44b3da9",
   "metadata": {
    "tags": []
   },
   "outputs": [
    {
     "data": {
      "text/plain": [
       "array([ True])"
      ]
     },
     "execution_count": 145,
     "metadata": {},
     "output_type": "execute_result"
    }
   ],
   "source": [
    "get_prediction_df = pd.DataFrame({'VKM_Diesel_LGV':[1000000000], 'VKM_Diesel_Car':[100000000], 'VKM_Petrol_Car':[10000000], 'VKM_Electric_Car':[10000000]})\n",
    "pm25_logistic_reg.predict(get_prediction_df)"
   ]
  },
  {
   "cell_type": "code",
   "execution_count": 146,
   "id": "cfba3a47-bfdf-4fe6-8e92-308742368bca",
   "metadata": {
    "tags": []
   },
   "outputs": [
    {
     "data": {
      "text/plain": [
       "array([False])"
      ]
     },
     "execution_count": 146,
     "metadata": {},
     "output_type": "execute_result"
    }
   ],
   "source": [
    "get_prediction_df = pd.DataFrame({'VKM_Diesel_LGV':[100], 'VKM_Diesel_Car':[100], 'VKM_Petrol_Car':[100], 'VKM_Electric_Car':[100]})\n",
    "pm25_logistic_reg.predict(get_prediction_df)"
   ]
  }
 ],
 "metadata": {
  "kernelspec": {
   "display_name": "Python 3 (ipykernel)",
   "language": "python",
   "name": "python3"
  },
  "language_info": {
   "codemirror_mode": {
    "name": "ipython",
    "version": 3
   },
   "file_extension": ".py",
   "mimetype": "text/x-python",
   "name": "python",
   "nbconvert_exporter": "python",
   "pygments_lexer": "ipython3",
   "version": "3.10.13"
  }
 },
 "nbformat": 4,
 "nbformat_minor": 5
}
